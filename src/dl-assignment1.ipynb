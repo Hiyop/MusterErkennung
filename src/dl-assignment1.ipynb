{
 "cells": [
  {
   "cell_type": "code",
   "execution_count": 1,
   "metadata": {},
   "outputs": [
    {
     "data": {
      "text/plain": [
       "'0.3.0b0+591e73e'"
      ]
     },
     "execution_count": 1,
     "metadata": {},
     "output_type": "execute_result"
    }
   ],
   "source": [
    "import torch\n",
    "torch.__version__"
   ]
  },
  {
   "cell_type": "markdown",
   "metadata": {},
   "source": [
    "# Assignment 1\n",
    "\n",
    "Fill in the code and then print to PDF to send for marking.\n",
    "\n",
    "## A first look at PyTorch\n",
    "\n",
    "\n",
    "We will now take a look at a first concrete example of a neural network, which makes use of the Python library PyTorch to learn to classify fashion articles. Unless you already have experience with PyTorch or similar libraries, you will not understand everything about this first example right away. You probably haven't even installed Pytorch yet. Don't worry, that is perfectly fine. We will do all that below.\n",
    "\n",
    "The problem we are trying to solve here is to classify grayscale images of fashion articles (28 pixels by 28 pixels), into their 10 categories. The dataset we will use is the Fashion-MNIST dataset, a dropin replacement of MNIST which is a classic dataset in the machine learning community, which has been around for almost as long as the field itself and has been very intensively studied. It's a set of 60,000 training images, plus 10,000 test images. You can think of \"solving\" Fashion-MNIST or MNIST as the \"Hello World\" of deep learning --- it's what you do to verify that your algorithms are working as expected. As you become a machine learning practitioner, you will see MNIST come up over and over again, in scientific papers, blog posts, and so on.\n",
    "\n",
    "The Fashion-MNIST and MNIST datasets comes as standard datasets in PyTorch's `torchvision` library, as subclasses of `torch.utils.data.Dataset` which makes it convinent to use as we will see.\n",
    "\n",
    "Our images are encoded as `PIL.Image.Image` objects, and the labels are simply an array of integers, ranging from 0 to 9.  There is a one-to-one correspondence between the images and the labels.\n",
    "\n",
    "Before training, we will transform our data by first converting it to a `Tensor` and then  normalizing it so that all image values have mean 0.5 and standard deviation of 1, by composing these operations as `transforms` function to the datasets:"
   ]
  },
  {
   "cell_type": "code",
   "execution_count": 2,
   "metadata": {
    "collapsed": true
   },
   "outputs": [],
   "source": [
    "from torchvision import datasets, transforms\n",
    "\n",
    "trans = transforms.Compose([transforms.ToTensor(), transforms.Normalize((0.5,), (1.0,))])\n",
    "\n",
    "train_dataset = datasets.FashionMNIST('data', transform=trans, train=True, download=True)\n",
    "test_dataset = datasets.FashionMNIST('data', transform=trans, train=False, download=True)"
   ]
  },
  {
   "cell_type": "markdown",
   "metadata": {},
   "source": [
    "`train_dataset` forms the \"training set\", the data that the model will learn from. The model will then be tested on the \"test set\", `test_dataset`. \n",
    "\n",
    "Let's have a look at the training data:"
   ]
  },
  {
   "cell_type": "code",
   "execution_count": 3,
   "metadata": {},
   "outputs": [
    {
     "data": {
      "text/plain": [
       "60000"
      ]
     },
     "execution_count": 3,
     "metadata": {},
     "output_type": "execute_result"
    }
   ],
   "source": [
    "len(train_dataset)"
   ]
  },
  {
   "cell_type": "code",
   "execution_count": 4,
   "metadata": {},
   "outputs": [
    {
     "data": {
      "text/plain": [
       "<matplotlib.image.AxesImage at 0xada4558048>"
      ]
     },
     "execution_count": 4,
     "metadata": {},
     "output_type": "execute_result"
    },
    {
     "data": {
      "image/png": "[encoded data removed]",
      "text/plain": [
       "<matplotlib.figure.Figure at 0xad9fbd5a20>"
      ]
     },
     "metadata": {},
     "output_type": "display_data"
    }
   ],
   "source": [
    "%matplotlib inline\n",
    "import matplotlib.pyplot as plt\n",
    "\n",
    "plt.imshow(train_dataset.train_data[0], cmap='gray')"
   ]
  },
  {
   "cell_type": "code",
   "execution_count": 5,
   "metadata": {},
   "outputs": [
    {
     "data": {
      "text/plain": [
       "9"
      ]
     },
     "execution_count": 5,
     "metadata": {},
     "output_type": "execute_result"
    }
   ],
   "source": [
    "train_dataset.train_labels[0]"
   ]
  },
  {
   "cell_type": "markdown",
   "metadata": {},
   "source": [
    "Let's have a look at the test data:"
   ]
  },
  {
   "cell_type": "code",
   "execution_count": 6,
   "metadata": {},
   "outputs": [
    {
     "data": {
      "text/plain": [
       "10000"
      ]
     },
     "execution_count": 6,
     "metadata": {},
     "output_type": "execute_result"
    }
   ],
   "source": [
    "len(test_dataset)"
   ]
  },
  {
   "cell_type": "code",
   "execution_count": 7,
   "metadata": {},
   "outputs": [
    {
     "data": {
      "text/plain": [
       "<matplotlib.image.AxesImage at 0xada45e8160>"
      ]
     },
     "execution_count": 7,
     "metadata": {},
     "output_type": "execute_result"
    },
    {
     "data": {
      "image/png": "[encoded data removed]",
      "text/plain": [
       "<matplotlib.figure.Figure at 0xad9fbd5b00>"
      ]
     },
     "metadata": {},
     "output_type": "display_data"
    }
   ],
   "source": [
    "plt.imshow(test_dataset.test_data[15], cmap='gray')"
   ]
  },
  {
   "cell_type": "code",
   "execution_count": 8,
   "metadata": {},
   "outputs": [
    {
     "data": {
      "text/plain": [
       "1"
      ]
     },
     "execution_count": 8,
     "metadata": {},
     "output_type": "execute_result"
    }
   ],
   "source": [
    "test_dataset.test_labels[15]"
   ]
  },
  {
   "cell_type": "markdown",
   "metadata": {},
   "source": [
    "Our workflow will be as follow: first we will present our neural network with the training data, `train_dataset` via the `DataLoader` iterator. The network will then learn to associate images and labels. Finally, we will ask the network to produce predictions for `test_dataset`, and we will verify if these predictions match the test labels.\n",
    "\n",
    "Let's build our network --- again, remember that you aren't supposed to understand everything about this example just yet."
   ]
  },
  {
   "cell_type": "code",
   "execution_count": 9,
   "metadata": {
    "collapsed": true
   },
   "outputs": [],
   "source": [
    "import torch.nn as nn\n",
    "import torch.nn.functional as F\n",
    "\n",
    "class Net(nn.Module):\n",
    "    def __init__(self):\n",
    "        super(Net, self).__init__()\n",
    "        self.fc1 = nn.Linear(28*28, 512)\n",
    "        self.fc2 = nn.Linear(512, 10)\n",
    "\n",
    "    def forward(self, x):\n",
    "        x = x.view(-1, 28*28)\n",
    "        x = F.relu(self.fc1(x))\n",
    "        x = self.fc2(x)\n",
    "        return F.log_softmax(x)"
   ]
  },
  {
   "cell_type": "code",
   "execution_count": 10,
   "metadata": {
    "collapsed": true
   },
   "outputs": [],
   "source": [
    "model = Net()\n",
    "if torch.cuda.is_available():\n",
    "    model.cuda()"
   ]
  },
  {
   "cell_type": "markdown",
   "metadata": {},
   "source": [
    "The core building block of neural networks is the \"layer\", a data-processing module which you can conceive as a \"filter\" for data. Some data comes in, and comes out in a more useful form. Precisely, layers extract _representations_ out of the data fed into them --- hopefully  representations that are more meaningful for the problem at hand. Most of deep learning really consists of chaining together simple layers  which will implement a form of progressive \"data distillation\". A deep learning model is like a sieve for data processing, made of a  succession of increasingly refined data filters --- the \"layers\".\n",
    "\n",
    "Here our network consists of a sequence of two `Linear` layers, which are densely-connected (also called \"fully-connected\") neural layers.  The output (and last) layer is a 10-way \"softmax\" layer, which means it will return an array of 10 probability scores (summing to 1). Each  score will be the probability that the current article image belongs to one of our 10 classes.\n",
    "\n",
    "To make our network ready for training, we need to pick three more things:\n",
    "\n",
    "* An optimizer: this is the mechanism through which the network will update itself based on the data it sees and its loss function.\n",
    "* A loss function: the is how the network will be able to measure how good a job it is doing on its training data, and thus how it will be  able to steer itself in the right direction.\n",
    "* Metrics to monitor during training and testing. Here we will only care about accuracy (the fraction of the images that were correctly classified).\n",
    "\n",
    "The exact purpose of the loss function and the optimizer will be made clear throughout the next lectures and homeworks. Lets start with the optimizer:"
   ]
  },
  {
   "cell_type": "code",
   "execution_count": 11,
   "metadata": {
    "collapsed": true
   },
   "outputs": [],
   "source": [
    "import torch.optim as optim\n",
    "\n",
    "optimizer = optim.SGD(model.parameters(), lr=0.01, momentum=0.5)"
   ]
  },
  {
   "cell_type": "code",
   "execution_count": 12,
   "metadata": {
    "collapsed": true
   },
   "outputs": [],
   "source": [
    "kwargs = {'num_workers': 1, 'pin_memory': True} if torch.cuda.is_available() else {}\n",
    "train_loader = torch.utils.data.DataLoader(train_dataset,\n",
    "                                           batch_size=128, \n",
    "                                           shuffle=True,\n",
    "                                           **kwargs)\n",
    "test_loader = torch.utils.data.DataLoader(test_dataset,\n",
    "                                          batch_size=128,\n",
    "                                          shuffle=False,\n",
    "                                          **kwargs)"
   ]
  },
  {
   "cell_type": "markdown",
   "metadata": {},
   "source": [
    "We are now ready to train our network, meaning, we \"fit\" the model to its training data, which in PyTorch is done via a `train()`  helper which typically contains the loss we wish to minimize and looks like this: "
   ]
  },
  {
   "cell_type": "code",
   "execution_count": 13,
   "metadata": {
    "collapsed": true
   },
   "outputs": [],
   "source": [
    "from torch.autograd import Variable\n",
    "\n",
    "def train(epoch):\n",
    "    model.train()\n",
    "    \n",
    "    for batch_idx, (data, target) in enumerate(train_loader):\n",
    "        if torch.cuda.is_available():\n",
    "            data, target = data.cuda(), target.cuda()\n",
    "        data, target = Variable(data), Variable(target)\n",
    "\n",
    "        optimizer.zero_grad()\n",
    "        \n",
    "        output = model(data)\n",
    "        \n",
    "        loss = F.nll_loss(output, target)\n",
    "        loss.backward()\n",
    "        \n",
    "        optimizer.step()\n",
    "        \n",
    "        if batch_idx % 10 == 0:\n",
    "            print('Train Epoch: {} [{}/{} ({:.0f}%)]\\tLoss: {:.6f}'.format(\n",
    "                epoch, batch_idx * len(data), len(train_loader.dataset),\n",
    "                100. * batch_idx / len(train_loader), loss.data[0]))"
   ]
  },
  {
   "cell_type": "markdown",
   "metadata": {},
   "source": [
    "The quantity being displayed during training in the above helper is: the \"loss\" of the network over the training data. Let us write a `test()` helper which will print out the accuracy metric of the network over the test data:"
   ]
  },
  {
   "cell_type": "code",
   "execution_count": 14,
   "metadata": {
    "collapsed": true
   },
   "outputs": [],
   "source": [
    "def test():\n",
    "    model.eval()\n",
    "    \n",
    "    test_loss = 0\n",
    "    correct = 0\n",
    "    for data, target in test_loader:\n",
    "        if torch.cuda.is_available():\n",
    "            data, target = data.cuda(), target.cuda()\n",
    "        data, target = Variable(data, volatile=True), Variable(target)\n",
    "        output = model(data)\n",
    "        test_loss += F.nll_loss(output, target, size_average=False).data[0] # sum up batch loss\n",
    "        pred = output.data.max(1, keepdim=True)[1] # get the index of the max log-probability\n",
    "        correct += pred.eq(target.data.view_as(pred)).cpu().sum()\n",
    "\n",
    "    test_loss /= len(test_loader.dataset)\n",
    "    print('\\nTest set: Average loss: {:.4f}, Accuracy: {}/{} ({:.0f}%)\\n'.format(\n",
    "        test_loss, correct, len(test_loader.dataset),\n",
    "        100. * correct / len(test_loader.dataset)))"
   ]
  },
  {
   "cell_type": "markdown",
   "metadata": {},
   "source": [
    "Now let us  train the network for 5 epochs and print the test set accuracy at the end of each epoch:"
   ]
  },
  {
   "cell_type": "code",
   "execution_count": 15,
   "metadata": {
    "collapsed": true
   },
   "outputs": [],
   "source": [
    "#for epoch in range(1, 5 + 1):\n",
    "#    train(epoch)\n",
    "#    test()"
   ]
  },
  {
   "cell_type": "markdown",
   "metadata": {},
   "source": [
    "Our test set accuracy turns out to be 84% --- that's quite a bit lower than the training set accuracy.  This gap between training accuracy and test accuracy is an example of \"overfitting\",  the fact that machine learning models tend to perform worse on new data than on their training data.  Overfitting will be a central topic in machine learning and deep learning in particular.\n",
    "\n",
    "This concludes our very first example --- you just saw how we could build and a train a neural network to classify clothing articles, in less than 30 or so lines of Python code.\n",
    "\n",
    "## Assignment\n",
    "\n",
    "In this assignment we will try to get some intuition on the hyperparameters associated with the optimizer. Optimization hyperparameters have a large influence on the quality of solutions found by optimization\n",
    "algorithms for deep neural networks. The optimization algorithms we will look at have many hyperparameters:\n",
    "\n",
    "* $\\alpha_0$ the initial step size\n",
    "* the step decay scheme\n",
    "* $\\beta_0$ the initial momentum value\n",
    "* the momentum schedule\n",
    "* ...\n",
    "\n",
    "In this assignment we will concentrate on the the step size and the step decay scheme.\n",
    "\n",
    "### Fixed Model\n",
    "\n",
    "We will work with the following fixed model for the CIFAR-10 data:"
   ]
  },
  {
   "cell_type": "code",
   "execution_count": 16,
   "metadata": {
    "collapsed": true
   },
   "outputs": [],
   "source": [
    "cfg = {\n",
    "    'VGG11': [64, 'M', 128, 'M', 256, 256, 'M', 512, 512, 'M', 512, 512, 'M']\n",
    "}\n",
    "\n",
    "class VGG11(nn.Module):\n",
    "    def __init__(self):\n",
    "        super(VGG11, self).__init__()\n",
    "        self.features = self._make_layers(cfg['VGG11'])\n",
    "        self.classifier = nn.Linear(512, 10)\n",
    "\n",
    "    def forward(self, x):\n",
    "        x = self.features(x)\n",
    "        x = x.view(x.size(0), -1)\n",
    "        return self.classifier(x)\n",
    "    \n",
    "    def _make_layers(self, cfg):\n",
    "        layers = []\n",
    "        in_channels = 3\n",
    "        for x in cfg:\n",
    "            if x == 'M':\n",
    "                layers += [nn.MaxPool2d(kernel_size=2, stride=2)]\n",
    "            else:\n",
    "                layers += [nn.Conv2d(in_channels, x, kernel_size=3, padding=1),\n",
    "                           nn.BatchNorm2d(x),\n",
    "                           nn.ReLU(inplace=True)]\n",
    "                in_channels = x\n",
    "        layers += [nn.AvgPool2d(kernel_size=1, stride=1)]\n",
    "        return nn.Sequential(*layers)"
   ]
  },
  {
   "cell_type": "code",
   "execution_count": 17,
   "metadata": {
    "collapsed": true
   },
   "outputs": [],
   "source": [
    "model = VGG11()\n",
    "if torch.cuda.is_available():\n",
    "    model.cuda()"
   ]
  },
  {
   "cell_type": "markdown",
   "metadata": {},
   "source": [
    "### Task 1\n",
    "\n",
    "Load the CIFAR-10 dataset with some appropriate `batch_size` and transform it to a `Tensor` and normalize it using:"
   ]
  },
  {
   "cell_type": "code",
   "execution_count": 18,
   "metadata": {
    "collapsed": true
   },
   "outputs": [],
   "source": [
    "normalize = transforms.Normalize(mean=[0.485, 0.456, 0.406],\n",
    "                                 std=[0.229, 0.224, 0.225])"
   ]
  },
  {
   "cell_type": "code",
   "execution_count": 19,
   "metadata": {},
   "outputs": [
    {
     "name": "stdout",
     "output_type": "stream",
     "text": [
      "Files already downloaded and verified\n",
      "Files already downloaded and verified\n"
     ]
    },
    {
     "data": {
      "text/plain": [
       "8"
      ]
     },
     "execution_count": 19,
     "metadata": {},
     "output_type": "execute_result"
    },
    {
     "data": {
      "image/png": "[encoded data removed]",
      "text/plain": [
       "<matplotlib.figure.Figure at 0xada56f4e48>"
      ]
     },
     "metadata": {},
     "output_type": "display_data"
    }
   ],
   "source": [
    "mytrans = transforms.Compose([transforms.ToTensor(), transforms.Normalize(mean=[0.485, 0.456, 0.406],\n",
    "                                 std=[0.229, 0.224, 0.225])])\n",
    "\n",
    "train_dataset = datasets.CIFAR10('data', transform=mytrans, train=True, download=True)\n",
    "test_dataset = datasets.CIFAR10('data', transform=mytrans, train=False, download=True)\n",
    "\n",
    "kwargs = {'num_workers': 1, 'pin_memory': True} if torch.cuda.is_available() else {}\n",
    "train_loader = torch.utils.data.DataLoader(train_dataset,\n",
    "                                           batch_size=128, \n",
    "                                           shuffle=True,\n",
    "                                           **kwargs)\n",
    "test_loader = torch.utils.data.DataLoader(test_dataset,\n",
    "                                          batch_size=128,\n",
    "                                          shuffle=False,\n",
    "                                          **kwargs)\n",
    "\n",
    "plt.imshow(train_dataset.train_data[0])\n",
    "test_dataset.test_labels[15]"
   ]
  },
  {
   "cell_type": "markdown",
   "metadata": {},
   "source": [
    "### Task 2\n",
    "\n",
    "Next we want to train the network by minimizing the `CrossEntropyLoss` for `50` epochs using the `SGD` and `Adam` optimizer using their default parameters and plot the validation accuracy and test accuracy over the course of the training."
   ]
  },
  {
   "cell_type": "code",
   "execution_count": 20,
   "metadata": {
    "scrolled": true
   },
   "outputs": [
    {
     "name": "stdout",
     "output_type": "stream",
     "text": [
      "Train Epoch: 1 [0/50000 (0%)]\tLoss: 2.481535\n",
      "Train Epoch: 1 [1280/50000 (3%)]\tLoss: 1.826223\n",
      "Train Epoch: 1 [2560/50000 (5%)]\tLoss: 1.613244\n",
      "Train Epoch: 1 [3840/50000 (8%)]\tLoss: 1.446478\n",
      "Train Epoch: 1 [5120/50000 (10%)]\tLoss: 1.432553\n",
      "Train Epoch: 1 [6400/50000 (13%)]\tLoss: 1.421070\n",
      "Train Epoch: 1 [7680/50000 (15%)]\tLoss: 1.450968\n",
      "Train Epoch: 1 [8960/50000 (18%)]\tLoss: 1.446522\n",
      "Train Epoch: 1 [10240/50000 (20%)]\tLoss: 1.226847\n",
      "Train Epoch: 1 [11520/50000 (23%)]\tLoss: 1.357381\n",
      "Train Epoch: 1 [12800/50000 (26%)]\tLoss: 1.124767\n",
      "Train Epoch: 1 [14080/50000 (28%)]\tLoss: 1.335805\n",
      "Train Epoch: 1 [15360/50000 (31%)]\tLoss: 1.210944\n",
      "Train Epoch: 1 [16640/50000 (33%)]\tLoss: 1.300167\n",
      "Train Epoch: 1 [17920/50000 (36%)]\tLoss: 1.115657\n",
      "Train Epoch: 1 [19200/50000 (38%)]\tLoss: 1.169778\n",
      "Train Epoch: 1 [20480/50000 (41%)]\tLoss: 1.111295\n",
      "Train Epoch: 1 [21760/50000 (43%)]\tLoss: 1.089810\n",
      "Train Epoch: 1 [23040/50000 (46%)]\tLoss: 0.984768\n",
      "Train Epoch: 1 [24320/50000 (49%)]\tLoss: 1.167182\n",
      "Train Epoch: 1 [25600/50000 (51%)]\tLoss: 1.035465\n",
      "Train Epoch: 1 [26880/50000 (54%)]\tLoss: 1.139583\n",
      "Train Epoch: 1 [28160/50000 (56%)]\tLoss: 1.213726\n",
      "Train Epoch: 1 [29440/50000 (59%)]\tLoss: 1.095446\n",
      "Train Epoch: 1 [30720/50000 (61%)]\tLoss: 1.146504\n",
      "Train Epoch: 1 [32000/50000 (64%)]\tLoss: 0.950914\n",
      "Train Epoch: 1 [33280/50000 (66%)]\tLoss: 1.064243\n",
      "Train Epoch: 1 [34560/50000 (69%)]\tLoss: 0.964341\n",
      "Train Epoch: 1 [35840/50000 (72%)]\tLoss: 0.996639\n",
      "Train Epoch: 1 [37120/50000 (74%)]\tLoss: 0.862991\n",
      "Train Epoch: 1 [38400/50000 (77%)]\tLoss: 0.771642\n",
      "Train Epoch: 1 [39680/50000 (79%)]\tLoss: 0.988125\n",
      "Train Epoch: 1 [40960/50000 (82%)]\tLoss: 0.942525\n",
      "Train Epoch: 1 [42240/50000 (84%)]\tLoss: 0.971929\n",
      "Train Epoch: 1 [43520/50000 (87%)]\tLoss: 1.013078\n",
      "Train Epoch: 1 [44800/50000 (90%)]\tLoss: 0.832142\n",
      "Train Epoch: 1 [46080/50000 (92%)]\tLoss: 0.833106\n",
      "Train Epoch: 1 [47360/50000 (95%)]\tLoss: 0.905488\n",
      "Train Epoch: 1 [48640/50000 (97%)]\tLoss: 0.814770\n",
      "Train Epoch: 1 [31200/50000 (100%)]\tLoss: 0.882691\n",
      "\n",
      "Test set: Average loss: 0.9436, Accuracy: 6729/10000 (67%)\n",
      "\n",
      "Train Epoch: 2 [0/50000 (0%)]\tLoss: 0.724639\n",
      "Train Epoch: 2 [1280/50000 (3%)]\tLoss: 0.962214\n",
      "Train Epoch: 2 [2560/50000 (5%)]\tLoss: 0.681849\n",
      "Train Epoch: 2 [3840/50000 (8%)]\tLoss: 1.040047\n",
      "Train Epoch: 2 [5120/50000 (10%)]\tLoss: 0.794132\n",
      "Train Epoch: 2 [6400/50000 (13%)]\tLoss: 0.720781\n",
      "Train Epoch: 2 [7680/50000 (15%)]\tLoss: 0.892860\n",
      "Train Epoch: 2 [8960/50000 (18%)]\tLoss: 0.580279\n",
      "Train Epoch: 2 [10240/50000 (20%)]\tLoss: 0.798583\n",
      "Train Epoch: 2 [11520/50000 (23%)]\tLoss: 0.780449\n",
      "Train Epoch: 2 [12800/50000 (26%)]\tLoss: 0.936296\n",
      "Train Epoch: 2 [14080/50000 (28%)]\tLoss: 0.541996\n",
      "Train Epoch: 2 [15360/50000 (31%)]\tLoss: 0.816588\n",
      "Train Epoch: 2 [16640/50000 (33%)]\tLoss: 0.593517\n",
      "Train Epoch: 2 [17920/50000 (36%)]\tLoss: 0.844699\n",
      "Train Epoch: 2 [19200/50000 (38%)]\tLoss: 0.705553\n",
      "Train Epoch: 2 [20480/50000 (41%)]\tLoss: 0.623449\n",
      "Train Epoch: 2 [21760/50000 (43%)]\tLoss: 0.854686\n",
      "Train Epoch: 2 [23040/50000 (46%)]\tLoss: 0.691310\n",
      "Train Epoch: 2 [24320/50000 (49%)]\tLoss: 0.812636\n",
      "Train Epoch: 2 [25600/50000 (51%)]\tLoss: 0.946621\n",
      "Train Epoch: 2 [26880/50000 (54%)]\tLoss: 0.780488\n",
      "Train Epoch: 2 [28160/50000 (56%)]\tLoss: 0.691944\n",
      "Train Epoch: 2 [29440/50000 (59%)]\tLoss: 0.857873\n",
      "Train Epoch: 2 [30720/50000 (61%)]\tLoss: 0.739674\n",
      "Train Epoch: 2 [32000/50000 (64%)]\tLoss: 0.696011\n",
      "Train Epoch: 2 [33280/50000 (66%)]\tLoss: 0.751512\n",
      "Train Epoch: 2 [34560/50000 (69%)]\tLoss: 0.742962\n",
      "Train Epoch: 2 [35840/50000 (72%)]\tLoss: 0.606673\n",
      "Train Epoch: 2 [37120/50000 (74%)]\tLoss: 0.750699\n",
      "Train Epoch: 2 [38400/50000 (77%)]\tLoss: 0.828280\n",
      "Train Epoch: 2 [39680/50000 (79%)]\tLoss: 0.729895\n",
      "Train Epoch: 2 [40960/50000 (82%)]\tLoss: 0.650459\n",
      "Train Epoch: 2 [42240/50000 (84%)]\tLoss: 0.753340\n",
      "Train Epoch: 2 [43520/50000 (87%)]\tLoss: 0.630062\n",
      "Train Epoch: 2 [44800/50000 (90%)]\tLoss: 0.706473\n",
      "Train Epoch: 2 [46080/50000 (92%)]\tLoss: 0.701584\n",
      "Train Epoch: 2 [47360/50000 (95%)]\tLoss: 0.640369\n",
      "Train Epoch: 2 [48640/50000 (97%)]\tLoss: 0.802327\n",
      "Train Epoch: 2 [31200/50000 (100%)]\tLoss: 0.653780\n",
      "\n",
      "Test set: Average loss: 0.8901, Accuracy: 6849/10000 (68%)\n",
      "\n",
      "Train Epoch: 3 [0/50000 (0%)]\tLoss: 0.600390\n",
      "Train Epoch: 3 [1280/50000 (3%)]\tLoss: 0.509222\n",
      "Train Epoch: 3 [2560/50000 (5%)]\tLoss: 0.493631\n",
      "Train Epoch: 3 [3840/50000 (8%)]\tLoss: 0.586729\n",
      "Train Epoch: 3 [5120/50000 (10%)]\tLoss: 0.455852\n",
      "Train Epoch: 3 [6400/50000 (13%)]\tLoss: 0.577102\n",
      "Train Epoch: 3 [7680/50000 (15%)]\tLoss: 0.448743\n",
      "Train Epoch: 3 [8960/50000 (18%)]\tLoss: 0.468977\n",
      "Train Epoch: 3 [10240/50000 (20%)]\tLoss: 0.486909\n",
      "Train Epoch: 3 [11520/50000 (23%)]\tLoss: 0.538146\n",
      "Train Epoch: 3 [12800/50000 (26%)]\tLoss: 0.810804\n",
      "Train Epoch: 3 [14080/50000 (28%)]\tLoss: 0.639887\n",
      "Train Epoch: 3 [15360/50000 (31%)]\tLoss: 0.599782\n",
      "Train Epoch: 3 [16640/50000 (33%)]\tLoss: 0.518592\n",
      "Train Epoch: 3 [17920/50000 (36%)]\tLoss: 0.496211\n",
      "Train Epoch: 3 [19200/50000 (38%)]\tLoss: 0.577934\n",
      "Train Epoch: 3 [20480/50000 (41%)]\tLoss: 0.486154\n",
      "Train Epoch: 3 [21760/50000 (43%)]\tLoss: 0.735016\n",
      "Train Epoch: 3 [23040/50000 (46%)]\tLoss: 0.639373\n",
      "Train Epoch: 3 [24320/50000 (49%)]\tLoss: 0.687976\n",
      "Train Epoch: 3 [25600/50000 (51%)]\tLoss: 0.503832\n",
      "Train Epoch: 3 [26880/50000 (54%)]\tLoss: 0.628355\n",
      "Train Epoch: 3 [28160/50000 (56%)]\tLoss: 0.409222\n",
      "Train Epoch: 3 [29440/50000 (59%)]\tLoss: 0.549111\n",
      "Train Epoch: 3 [30720/50000 (61%)]\tLoss: 0.541438\n",
      "Train Epoch: 3 [32000/50000 (64%)]\tLoss: 0.580693\n",
      "Train Epoch: 3 [33280/50000 (66%)]\tLoss: 0.690190\n",
      "Train Epoch: 3 [34560/50000 (69%)]\tLoss: 0.454389\n",
      "Train Epoch: 3 [35840/50000 (72%)]\tLoss: 0.659128\n",
      "Train Epoch: 3 [37120/50000 (74%)]\tLoss: 0.589588\n",
      "Train Epoch: 3 [38400/50000 (77%)]\tLoss: 0.559938\n",
      "Train Epoch: 3 [39680/50000 (79%)]\tLoss: 0.527998\n",
      "Train Epoch: 3 [40960/50000 (82%)]\tLoss: 0.723287\n",
      "Train Epoch: 3 [42240/50000 (84%)]\tLoss: 0.632368\n",
      "Train Epoch: 3 [43520/50000 (87%)]\tLoss: 0.422587\n",
      "Train Epoch: 3 [44800/50000 (90%)]\tLoss: 0.741596\n",
      "Train Epoch: 3 [46080/50000 (92%)]\tLoss: 0.612008\n",
      "Train Epoch: 3 [47360/50000 (95%)]\tLoss: 0.397524\n",
      "Train Epoch: 3 [48640/50000 (97%)]\tLoss: 0.544591\n",
      "Train Epoch: 3 [31200/50000 (100%)]\tLoss: 0.575168\n",
      "\n",
      "Test set: Average loss: 0.7808, Accuracy: 7368/10000 (74%)\n",
      "\n",
      "Train Epoch: 4 [0/50000 (0%)]\tLoss: 0.403017\n",
      "Train Epoch: 4 [1280/50000 (3%)]\tLoss: 0.274048\n",
      "Train Epoch: 4 [2560/50000 (5%)]\tLoss: 0.351038\n",
      "Train Epoch: 4 [3840/50000 (8%)]\tLoss: 0.376063\n",
      "Train Epoch: 4 [5120/50000 (10%)]\tLoss: 0.358757\n",
      "Train Epoch: 4 [6400/50000 (13%)]\tLoss: 0.429306\n",
      "Train Epoch: 4 [7680/50000 (15%)]\tLoss: 0.296014\n",
      "Train Epoch: 4 [8960/50000 (18%)]\tLoss: 0.381629\n",
      "Train Epoch: 4 [10240/50000 (20%)]\tLoss: 0.286177\n",
      "Train Epoch: 4 [11520/50000 (23%)]\tLoss: 0.302400\n",
      "Train Epoch: 4 [12800/50000 (26%)]\tLoss: 0.387228\n",
      "Train Epoch: 4 [14080/50000 (28%)]\tLoss: 0.346939\n",
      "Train Epoch: 4 [15360/50000 (31%)]\tLoss: 0.380129\n",
      "Train Epoch: 4 [16640/50000 (33%)]\tLoss: 0.500721\n",
      "Train Epoch: 4 [17920/50000 (36%)]\tLoss: 0.421571\n",
      "Train Epoch: 4 [19200/50000 (38%)]\tLoss: 0.325124\n",
      "Train Epoch: 4 [20480/50000 (41%)]\tLoss: 0.413410\n",
      "Train Epoch: 4 [21760/50000 (43%)]\tLoss: 0.434043\n",
      "Train Epoch: 4 [23040/50000 (46%)]\tLoss: 0.301983\n",
      "Train Epoch: 4 [24320/50000 (49%)]\tLoss: 0.395767\n",
      "Train Epoch: 4 [25600/50000 (51%)]\tLoss: 0.360332\n",
      "Train Epoch: 4 [26880/50000 (54%)]\tLoss: 0.358105\n",
      "Train Epoch: 4 [28160/50000 (56%)]\tLoss: 0.391024\n",
      "Train Epoch: 4 [29440/50000 (59%)]\tLoss: 0.561040\n",
      "Train Epoch: 4 [30720/50000 (61%)]\tLoss: 0.442129\n",
      "Train Epoch: 4 [32000/50000 (64%)]\tLoss: 0.347791\n",
      "Train Epoch: 4 [33280/50000 (66%)]\tLoss: 0.406519\n",
      "Train Epoch: 4 [34560/50000 (69%)]\tLoss: 0.431843\n",
      "Train Epoch: 4 [35840/50000 (72%)]\tLoss: 0.522725\n",
      "Train Epoch: 4 [37120/50000 (74%)]\tLoss: 0.576731\n",
      "Train Epoch: 4 [38400/50000 (77%)]\tLoss: 0.436512\n",
      "Train Epoch: 4 [39680/50000 (79%)]\tLoss: 0.417948\n",
      "Train Epoch: 4 [40960/50000 (82%)]\tLoss: 0.418082\n",
      "Train Epoch: 4 [42240/50000 (84%)]\tLoss: 0.387791\n",
      "Train Epoch: 4 [43520/50000 (87%)]\tLoss: 0.474408\n",
      "Train Epoch: 4 [44800/50000 (90%)]\tLoss: 0.442530\n",
      "Train Epoch: 4 [46080/50000 (92%)]\tLoss: 0.334910\n",
      "Train Epoch: 4 [47360/50000 (95%)]\tLoss: 0.416251\n",
      "Train Epoch: 4 [48640/50000 (97%)]\tLoss: 0.353312\n",
      "Train Epoch: 4 [31200/50000 (100%)]\tLoss: 0.482114\n",
      "\n",
      "Test set: Average loss: 0.8885, Accuracy: 7201/10000 (72%)\n",
      "\n",
      "Train Epoch: 5 [0/50000 (0%)]\tLoss: 0.269190\n"
     ]
    },
    {
     "name": "stdout",
     "output_type": "stream",
     "text": [
      "Train Epoch: 5 [1280/50000 (3%)]\tLoss: 0.204784\n",
      "Train Epoch: 5 [2560/50000 (5%)]\tLoss: 0.277044\n",
      "Train Epoch: 5 [3840/50000 (8%)]\tLoss: 0.245890\n",
      "Train Epoch: 5 [5120/50000 (10%)]\tLoss: 0.301506\n",
      "Train Epoch: 5 [6400/50000 (13%)]\tLoss: 0.231048\n",
      "Train Epoch: 5 [7680/50000 (15%)]\tLoss: 0.235189\n",
      "Train Epoch: 5 [8960/50000 (18%)]\tLoss: 0.227062\n",
      "Train Epoch: 5 [10240/50000 (20%)]\tLoss: 0.291575\n",
      "Train Epoch: 5 [11520/50000 (23%)]\tLoss: 0.278184\n",
      "Train Epoch: 5 [12800/50000 (26%)]\tLoss: 0.234567\n",
      "Train Epoch: 5 [14080/50000 (28%)]\tLoss: 0.305020\n",
      "Train Epoch: 5 [15360/50000 (31%)]\tLoss: 0.347005\n",
      "Train Epoch: 5 [16640/50000 (33%)]\tLoss: 0.225486\n",
      "Train Epoch: 5 [17920/50000 (36%)]\tLoss: 0.295544\n",
      "Train Epoch: 5 [19200/50000 (38%)]\tLoss: 0.244556\n",
      "Train Epoch: 5 [20480/50000 (41%)]\tLoss: 0.263018\n",
      "Train Epoch: 5 [21760/50000 (43%)]\tLoss: 0.270709\n",
      "Train Epoch: 5 [23040/50000 (46%)]\tLoss: 0.387413\n",
      "Train Epoch: 5 [24320/50000 (49%)]\tLoss: 0.267191\n",
      "Train Epoch: 5 [25600/50000 (51%)]\tLoss: 0.281773\n",
      "Train Epoch: 5 [26880/50000 (54%)]\tLoss: 0.293154\n",
      "Train Epoch: 5 [28160/50000 (56%)]\tLoss: 0.425039\n",
      "Train Epoch: 5 [29440/50000 (59%)]\tLoss: 0.334720\n",
      "Train Epoch: 5 [30720/50000 (61%)]\tLoss: 0.382189\n",
      "Train Epoch: 5 [32000/50000 (64%)]\tLoss: 0.298606\n",
      "Train Epoch: 5 [33280/50000 (66%)]\tLoss: 0.475461\n",
      "Train Epoch: 5 [34560/50000 (69%)]\tLoss: 0.381508\n",
      "Train Epoch: 5 [35840/50000 (72%)]\tLoss: 0.296952\n",
      "Train Epoch: 5 [37120/50000 (74%)]\tLoss: 0.295046\n",
      "Train Epoch: 5 [38400/50000 (77%)]\tLoss: 0.464727\n",
      "Train Epoch: 5 [39680/50000 (79%)]\tLoss: 0.343791\n",
      "Train Epoch: 5 [40960/50000 (82%)]\tLoss: 0.414184\n",
      "Train Epoch: 5 [42240/50000 (84%)]\tLoss: 0.249292\n",
      "Train Epoch: 5 [43520/50000 (87%)]\tLoss: 0.454665\n",
      "Train Epoch: 5 [44800/50000 (90%)]\tLoss: 0.382337\n",
      "Train Epoch: 5 [46080/50000 (92%)]\tLoss: 0.397633\n",
      "Train Epoch: 5 [47360/50000 (95%)]\tLoss: 0.227113\n",
      "Train Epoch: 5 [48640/50000 (97%)]\tLoss: 0.391898\n",
      "Train Epoch: 5 [31200/50000 (100%)]\tLoss: 0.335350\n",
      "\n",
      "Test set: Average loss: 0.8317, Accuracy: 7348/10000 (73%)\n",
      "\n",
      "Train Epoch: 6 [0/50000 (0%)]\tLoss: 0.212537\n",
      "Train Epoch: 6 [1280/50000 (3%)]\tLoss: 0.148338\n",
      "Train Epoch: 6 [2560/50000 (5%)]\tLoss: 0.153619\n",
      "Train Epoch: 6 [3840/50000 (8%)]\tLoss: 0.060071\n",
      "Train Epoch: 6 [5120/50000 (10%)]\tLoss: 0.111966\n",
      "Train Epoch: 6 [6400/50000 (13%)]\tLoss: 0.122265\n",
      "Train Epoch: 6 [7680/50000 (15%)]\tLoss: 0.221824\n",
      "Train Epoch: 6 [8960/50000 (18%)]\tLoss: 0.192674\n",
      "Train Epoch: 6 [10240/50000 (20%)]\tLoss: 0.207144\n",
      "Train Epoch: 6 [11520/50000 (23%)]\tLoss: 0.179759\n",
      "Train Epoch: 6 [12800/50000 (26%)]\tLoss: 0.116071\n",
      "Train Epoch: 6 [14080/50000 (28%)]\tLoss: 0.150531\n",
      "Train Epoch: 6 [15360/50000 (31%)]\tLoss: 0.172782\n",
      "Train Epoch: 6 [16640/50000 (33%)]\tLoss: 0.168053\n",
      "Train Epoch: 6 [17920/50000 (36%)]\tLoss: 0.148403\n",
      "Train Epoch: 6 [19200/50000 (38%)]\tLoss: 0.269046\n",
      "Train Epoch: 6 [20480/50000 (41%)]\tLoss: 0.219777\n",
      "Train Epoch: 6 [21760/50000 (43%)]\tLoss: 0.182884\n",
      "Train Epoch: 6 [23040/50000 (46%)]\tLoss: 0.185039\n",
      "Train Epoch: 6 [24320/50000 (49%)]\tLoss: 0.251776\n",
      "Train Epoch: 6 [25600/50000 (51%)]\tLoss: 0.244216\n",
      "Train Epoch: 6 [26880/50000 (54%)]\tLoss: 0.145747\n",
      "Train Epoch: 6 [28160/50000 (56%)]\tLoss: 0.210075\n",
      "Train Epoch: 6 [29440/50000 (59%)]\tLoss: 0.192822\n",
      "Train Epoch: 6 [30720/50000 (61%)]\tLoss: 0.194881\n",
      "Train Epoch: 6 [32000/50000 (64%)]\tLoss: 0.292370\n",
      "Train Epoch: 6 [33280/50000 (66%)]\tLoss: 0.202797\n",
      "Train Epoch: 6 [34560/50000 (69%)]\tLoss: 0.217647\n",
      "Train Epoch: 6 [35840/50000 (72%)]\tLoss: 0.107247\n",
      "Train Epoch: 6 [37120/50000 (74%)]\tLoss: 0.272880\n",
      "Train Epoch: 6 [38400/50000 (77%)]\tLoss: 0.328884\n",
      "Train Epoch: 6 [39680/50000 (79%)]\tLoss: 0.244702\n",
      "Train Epoch: 6 [40960/50000 (82%)]\tLoss: 0.188858\n",
      "Train Epoch: 6 [42240/50000 (84%)]\tLoss: 0.181948\n",
      "Train Epoch: 6 [43520/50000 (87%)]\tLoss: 0.166812\n",
      "Train Epoch: 6 [44800/50000 (90%)]\tLoss: 0.260516\n",
      "Train Epoch: 6 [46080/50000 (92%)]\tLoss: 0.189734\n",
      "Train Epoch: 6 [47360/50000 (95%)]\tLoss: 0.244394\n",
      "Train Epoch: 6 [48640/50000 (97%)]\tLoss: 0.259970\n",
      "Train Epoch: 6 [31200/50000 (100%)]\tLoss: 0.252862\n",
      "\n",
      "Test set: Average loss: 0.8266, Accuracy: 7514/10000 (75%)\n",
      "\n",
      "Train Epoch: 7 [0/50000 (0%)]\tLoss: 0.182039\n",
      "Train Epoch: 7 [1280/50000 (3%)]\tLoss: 0.126708\n",
      "Train Epoch: 7 [2560/50000 (5%)]\tLoss: 0.093761\n",
      "Train Epoch: 7 [3840/50000 (8%)]\tLoss: 0.119104\n",
      "Train Epoch: 7 [5120/50000 (10%)]\tLoss: 0.117824\n",
      "Train Epoch: 7 [6400/50000 (13%)]\tLoss: 0.148325\n",
      "Train Epoch: 7 [7680/50000 (15%)]\tLoss: 0.147930\n",
      "Train Epoch: 7 [8960/50000 (18%)]\tLoss: 0.144043\n",
      "Train Epoch: 7 [10240/50000 (20%)]\tLoss: 0.102037\n",
      "Train Epoch: 7 [11520/50000 (23%)]\tLoss: 0.101374\n",
      "Train Epoch: 7 [12800/50000 (26%)]\tLoss: 0.073397\n",
      "Train Epoch: 7 [14080/50000 (28%)]\tLoss: 0.166794\n",
      "Train Epoch: 7 [15360/50000 (31%)]\tLoss: 0.097437\n",
      "Train Epoch: 7 [16640/50000 (33%)]\tLoss: 0.098424\n",
      "Train Epoch: 7 [17920/50000 (36%)]\tLoss: 0.111739\n",
      "Train Epoch: 7 [19200/50000 (38%)]\tLoss: 0.129701\n",
      "Train Epoch: 7 [20480/50000 (41%)]\tLoss: 0.149155\n",
      "Train Epoch: 7 [21760/50000 (43%)]\tLoss: 0.050582\n",
      "Train Epoch: 7 [23040/50000 (46%)]\tLoss: 0.092391\n",
      "Train Epoch: 7 [24320/50000 (49%)]\tLoss: 0.081817\n",
      "Train Epoch: 7 [25600/50000 (51%)]\tLoss: 0.090582\n",
      "Train Epoch: 7 [26880/50000 (54%)]\tLoss: 0.134287\n",
      "Train Epoch: 7 [28160/50000 (56%)]\tLoss: 0.148888\n",
      "Train Epoch: 7 [29440/50000 (59%)]\tLoss: 0.174265\n",
      "Train Epoch: 7 [30720/50000 (61%)]\tLoss: 0.129792\n",
      "Train Epoch: 7 [32000/50000 (64%)]\tLoss: 0.080174\n",
      "Train Epoch: 7 [33280/50000 (66%)]\tLoss: 0.100813\n",
      "Train Epoch: 7 [34560/50000 (69%)]\tLoss: 0.077812\n",
      "Train Epoch: 7 [35840/50000 (72%)]\tLoss: 0.068720\n",
      "Train Epoch: 7 [37120/50000 (74%)]\tLoss: 0.138927\n",
      "Train Epoch: 7 [38400/50000 (77%)]\tLoss: 0.139939\n",
      "Train Epoch: 7 [39680/50000 (79%)]\tLoss: 0.174844\n",
      "Train Epoch: 7 [40960/50000 (82%)]\tLoss: 0.217138\n",
      "Train Epoch: 7 [42240/50000 (84%)]\tLoss: 0.177828\n",
      "Train Epoch: 7 [43520/50000 (87%)]\tLoss: 0.117176\n",
      "Train Epoch: 7 [44800/50000 (90%)]\tLoss: 0.166801\n",
      "Train Epoch: 7 [46080/50000 (92%)]\tLoss: 0.175061\n",
      "Train Epoch: 7 [47360/50000 (95%)]\tLoss: 0.131278\n",
      "Train Epoch: 7 [48640/50000 (97%)]\tLoss: 0.134706\n",
      "Train Epoch: 7 [31200/50000 (100%)]\tLoss: 0.158601\n",
      "\n",
      "Test set: Average loss: 0.9342, Accuracy: 7452/10000 (75%)\n",
      "\n",
      "Train Epoch: 8 [0/50000 (0%)]\tLoss: 0.083836\n",
      "Train Epoch: 8 [1280/50000 (3%)]\tLoss: 0.062650\n"
     ]
    },
    {
     "ename": "KeyboardInterrupt",
     "evalue": "",
     "output_type": "error",
     "traceback": [
      "\u001b[1;31m---------------------------------------------------------------------------\u001b[0m",
      "\u001b[1;31mKeyboardInterrupt\u001b[0m                         Traceback (most recent call last)",
      "\u001b[1;32m<ipython-input-20-ce0190e6db7d>\u001b[0m in \u001b[0;36m<module>\u001b[1;34m()\u001b[0m\n\u001b[0;32m     43\u001b[0m \u001b[1;33m\u001b[0m\u001b[0m\n\u001b[0;32m     44\u001b[0m \u001b[1;32mfor\u001b[0m \u001b[0mepoch\u001b[0m \u001b[1;32min\u001b[0m \u001b[0mrange\u001b[0m\u001b[1;33m(\u001b[0m\u001b[1;36m1\u001b[0m\u001b[1;33m,\u001b[0m \u001b[1;36m50\u001b[0m \u001b[1;33m+\u001b[0m \u001b[1;36m1\u001b[0m\u001b[1;33m)\u001b[0m\u001b[1;33m:\u001b[0m\u001b[1;33m\u001b[0m\u001b[0m\n\u001b[1;32m---> 45\u001b[1;33m     \u001b[0mmytrain\u001b[0m\u001b[1;33m(\u001b[0m\u001b[0mepoch\u001b[0m\u001b[1;33m)\u001b[0m\u001b[1;33m\u001b[0m\u001b[0m\n\u001b[0m\u001b[0;32m     46\u001b[0m     \u001b[0mmytest\u001b[0m\u001b[1;33m(\u001b[0m\u001b[1;33m)\u001b[0m\u001b[1;33m\u001b[0m\u001b[0m\n",
      "\u001b[1;32m<ipython-input-20-ce0190e6db7d>\u001b[0m in \u001b[0;36mmytrain\u001b[1;34m(epoch)\u001b[0m\n\u001b[0;32m     14\u001b[0m \u001b[1;33m\u001b[0m\u001b[0m\n\u001b[0;32m     15\u001b[0m         \u001b[0mloss\u001b[0m \u001b[1;33m=\u001b[0m \u001b[0mF\u001b[0m\u001b[1;33m.\u001b[0m\u001b[0mcross_entropy\u001b[0m\u001b[1;33m(\u001b[0m\u001b[0moutput\u001b[0m\u001b[1;33m,\u001b[0m \u001b[0mtarget\u001b[0m\u001b[1;33m)\u001b[0m\u001b[1;33m\u001b[0m\u001b[0m\n\u001b[1;32m---> 16\u001b[1;33m         \u001b[0mloss\u001b[0m\u001b[1;33m.\u001b[0m\u001b[0mbackward\u001b[0m\u001b[1;33m(\u001b[0m\u001b[1;33m)\u001b[0m\u001b[1;33m\u001b[0m\u001b[0m\n\u001b[0m\u001b[0;32m     17\u001b[0m \u001b[1;33m\u001b[0m\u001b[0m\n\u001b[0;32m     18\u001b[0m         \u001b[0moptimizer\u001b[0m\u001b[1;33m.\u001b[0m\u001b[0mstep\u001b[0m\u001b[1;33m(\u001b[0m\u001b[1;33m)\u001b[0m\u001b[1;33m\u001b[0m\u001b[0m\n",
      "\u001b[1;32m~\\Anaconda3\\lib\\site-packages\\torch\\autograd\\variable.py\u001b[0m in \u001b[0;36mbackward\u001b[1;34m(self, gradient, retain_graph, create_graph, retain_variables)\u001b[0m\n\u001b[0;32m    165\u001b[0m                 \u001b[0mVariable\u001b[0m\u001b[1;33m.\u001b[0m\u001b[1;33m\u001b[0m\u001b[0m\n\u001b[0;32m    166\u001b[0m         \"\"\"\n\u001b[1;32m--> 167\u001b[1;33m         \u001b[0mtorch\u001b[0m\u001b[1;33m.\u001b[0m\u001b[0mautograd\u001b[0m\u001b[1;33m.\u001b[0m\u001b[0mbackward\u001b[0m\u001b[1;33m(\u001b[0m\u001b[0mself\u001b[0m\u001b[1;33m,\u001b[0m \u001b[0mgradient\u001b[0m\u001b[1;33m,\u001b[0m \u001b[0mretain_graph\u001b[0m\u001b[1;33m,\u001b[0m \u001b[0mcreate_graph\u001b[0m\u001b[1;33m,\u001b[0m \u001b[0mretain_variables\u001b[0m\u001b[1;33m)\u001b[0m\u001b[1;33m\u001b[0m\u001b[0m\n\u001b[0m\u001b[0;32m    168\u001b[0m \u001b[1;33m\u001b[0m\u001b[0m\n\u001b[0;32m    169\u001b[0m     \u001b[1;32mdef\u001b[0m \u001b[0mregister_hook\u001b[0m\u001b[1;33m(\u001b[0m\u001b[0mself\u001b[0m\u001b[1;33m,\u001b[0m \u001b[0mhook\u001b[0m\u001b[1;33m)\u001b[0m\u001b[1;33m:\u001b[0m\u001b[1;33m\u001b[0m\u001b[0m\n",
      "\u001b[1;32m~\\Anaconda3\\lib\\site-packages\\torch\\autograd\\__init__.py\u001b[0m in \u001b[0;36mbackward\u001b[1;34m(variables, grad_variables, retain_graph, create_graph, retain_variables)\u001b[0m\n\u001b[0;32m     97\u001b[0m \u001b[1;33m\u001b[0m\u001b[0m\n\u001b[0;32m     98\u001b[0m     Variable._execution_engine.run_backward(\n\u001b[1;32m---> 99\u001b[1;33m         variables, grad_variables, retain_graph)\n\u001b[0m\u001b[0;32m    100\u001b[0m \u001b[1;33m\u001b[0m\u001b[0m\n\u001b[0;32m    101\u001b[0m \u001b[1;33m\u001b[0m\u001b[0m\n",
      "\u001b[1;31mKeyboardInterrupt\u001b[0m: "
     ]
    }
   ],
   "source": [
    "optimizer = optim.SGD(model.parameters(), lr=0.01, momentum=0.5)\n",
    "\n",
    "def mytrain(epoch):\n",
    "    model.train()\n",
    "    \n",
    "    for batch_idx, (data, target) in enumerate(train_loader):\n",
    "        if torch.cuda.is_available():\n",
    "            data, target = data.cuda(), target.cuda()\n",
    "        data, target = Variable(data), Variable(target)\n",
    "\n",
    "        optimizer.zero_grad()\n",
    "        \n",
    "        output = model(data)\n",
    "        \n",
    "        loss = F.cross_entropy(output, target)\n",
    "        loss.backward()\n",
    "        \n",
    "        optimizer.step()\n",
    "        \n",
    "        if batch_idx % 10 == 0:\n",
    "            print('Train Epoch: {} [{}/{} ({:.0f}%)]\\tLoss: {:.6f}'.format(\n",
    "                epoch, batch_idx * len(data), len(train_loader.dataset),\n",
    "                100. * batch_idx / len(train_loader), loss.data[0]))\n",
    "            \n",
    "def mytest():\n",
    "    model.eval()\n",
    "    \n",
    "    test_loss = 0\n",
    "    correct = 0\n",
    "    for data, target in test_loader:\n",
    "        if torch.cuda.is_available():\n",
    "            data, target = data.cuda(), target.cuda()\n",
    "        data, target = Variable(data, volatile=True), Variable(target)\n",
    "        output = model(data)\n",
    "        test_loss += F.cross_entropy(output, target, size_average=False).data[0] # sum up batch loss\n",
    "        pred = output.data.max(1, keepdim=True)[1] # get the index of the max log-probability\n",
    "        correct += pred.eq(target.data.view_as(pred)).cpu().sum()\n",
    "\n",
    "    test_loss /= len(test_loader.dataset)\n",
    "    print('\\nTest set: Average loss: {:.4f}, Accuracy: {}/{} ({:.0f}%)\\n'.format(\n",
    "        test_loss, correct, len(test_loader.dataset),\n",
    "        100. * correct / len(test_loader.dataset)))\n",
    "\n",
    "for epoch in range(1, 50 + 1):\n",
    "    mytrain(epoch)\n",
    "    mytest()"
   ]
  },
  {
   "cell_type": "markdown",
   "metadata": {},
   "source": [
    "### Task 3\n",
    "\n",
    "Now implement decaying the learning rate using the `ReduceLROnPlateau` scheme in your training with $\\delta=0.9$ and plot the validation and test accuracy over the course of the training using the `SGD` and `Adam` optimizer. You will need to lookup the PyTorch API to figure out how to use this scheme."
   ]
  },
  {
   "cell_type": "code",
   "execution_count": null,
   "metadata": {
    "collapsed": true
   },
   "outputs": [],
   "source": [
    "### YOUR CODE HERE ###"
   ]
  },
  {
   "cell_type": "markdown",
   "metadata": {},
   "source": [
    "### Task 4\n",
    "\n",
    "Finally we want to tune the initial step size or  learning rate for the `SGD` and `Adam` for the setup we have till now. \n",
    "\n",
    "One strategy is to distribute different learning rates between your fellow classmates and then communicate the best result and refine the learning rate this way till you collectively find the best parameter. This will require some coordination and communication which is what I actually want you do to. Some of your classmates will be confused or stuck, help them! Perhaps you will see some neat helper or good code abstraction, learn from it and apply it to your own code.\n",
    "\n",
    "Finally, plot the validation accuracy and test accuracy over the course of training for the best learning rate you found for both `SGD` and `Adam`."
   ]
  },
  {
   "cell_type": "code",
   "execution_count": null,
   "metadata": {
    "collapsed": true
   },
   "outputs": [],
   "source": [
    "### YOUR CODE HERE ###"
   ]
  }
 ],
 "metadata": {
  "kernelspec": {
   "display_name": "Python 3",
   "language": "python",
   "name": "python3"
  },
  "language_info": {
   "codemirror_mode": {
    "name": "ipython",
    "version": 3
   },
   "file_extension": ".py",
   "mimetype": "text/x-python",
   "name": "python",
   "nbconvert_exporter": "python",
   "pygments_lexer": "ipython3",
   "version": "3.6.3"
  }
 },
 "nbformat": 4,
 "nbformat_minor": 2
}
