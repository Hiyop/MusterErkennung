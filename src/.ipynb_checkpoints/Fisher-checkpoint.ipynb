{
 "cells": [
  {
   "cell_type": "code",
   "execution_count": 32,
   "metadata": {},
   "outputs": [
    {
     "name": "stdout",
     "output_type": "stream",
     "text": [
      "1813\n"
     ]
    },
    {
     "ename": "AttributeError",
     "evalue": "'numpy.ndarray' object has no attribute 'remove'",
     "output_type": "error",
     "traceback": [
      "\u001b[1;31m---------------------------------------------------------------------------\u001b[0m",
      "\u001b[1;31mAttributeError\u001b[0m                            Traceback (most recent call last)",
      "\u001b[1;32m<ipython-input-32-1e3a5c3f427e>\u001b[0m in \u001b[0;36m<module>\u001b[1;34m()\u001b[0m\n\u001b[0;32m     51\u001b[0m \u001b[1;33m\u001b[0m\u001b[0m\n\u001b[0;32m     52\u001b[0m \u001b[0mTestVecsPos\u001b[0m \u001b[1;33m=\u001b[0m \u001b[0mgetTestSample\u001b[0m\u001b[1;33m(\u001b[0m\u001b[0mTrainVecsPos\u001b[0m\u001b[1;33m,\u001b[0m \u001b[1;36m0.2\u001b[0m\u001b[1;33m)\u001b[0m\u001b[1;33m\u001b[0m\u001b[0m\n\u001b[1;32m---> 53\u001b[1;33m \u001b[0mTrainVecsPos\u001b[0m \u001b[1;33m=\u001b[0m \u001b[0mremoveTestSamples\u001b[0m\u001b[1;33m(\u001b[0m\u001b[0mTrainVecsPos\u001b[0m\u001b[1;33m,\u001b[0m \u001b[0mTestVecsPos\u001b[0m\u001b[1;33m)\u001b[0m\u001b[1;33m\u001b[0m\u001b[0m\n\u001b[0m\u001b[0;32m     54\u001b[0m \u001b[1;33m\u001b[0m\u001b[0m\n\u001b[0;32m     55\u001b[0m \u001b[0mprint\u001b[0m\u001b[1;33m(\u001b[0m\u001b[0mlen\u001b[0m\u001b[1;33m(\u001b[0m\u001b[0mTrainVecsPos\u001b[0m\u001b[1;33m)\u001b[0m\u001b[1;33m)\u001b[0m\u001b[1;33m\u001b[0m\u001b[0m\n",
      "\u001b[1;32m<ipython-input-32-1e3a5c3f427e>\u001b[0m in \u001b[0;36mremoveTestSamples\u001b[1;34m(Vecs, TestVecs)\u001b[0m\n\u001b[0;32m     34\u001b[0m \u001b[1;32mdef\u001b[0m \u001b[0mremoveTestSamples\u001b[0m\u001b[1;33m(\u001b[0m\u001b[0mVecs\u001b[0m\u001b[1;33m,\u001b[0m \u001b[0mTestVecs\u001b[0m\u001b[1;33m)\u001b[0m\u001b[1;33m:\u001b[0m\u001b[1;33m\u001b[0m\u001b[0m\n\u001b[0;32m     35\u001b[0m     \u001b[1;32mfor\u001b[0m \u001b[0mvec\u001b[0m \u001b[1;32min\u001b[0m \u001b[0mTestVecs\u001b[0m\u001b[1;33m:\u001b[0m\u001b[1;33m\u001b[0m\u001b[0m\n\u001b[1;32m---> 36\u001b[1;33m         \u001b[0mVecs\u001b[0m\u001b[1;33m.\u001b[0m\u001b[0mremove\u001b[0m\u001b[1;33m(\u001b[0m\u001b[0mvec\u001b[0m\u001b[1;33m)\u001b[0m\u001b[1;33m\u001b[0m\u001b[0m\n\u001b[0m\u001b[0;32m     37\u001b[0m     \u001b[1;32mreturn\u001b[0m \u001b[0mVecs\u001b[0m\u001b[1;33m\u001b[0m\u001b[0m\n\u001b[0;32m     38\u001b[0m \u001b[1;33m\u001b[0m\u001b[0m\n",
      "\u001b[1;31mAttributeError\u001b[0m: 'numpy.ndarray' object has no attribute 'remove'"
     ]
    }
   ],
   "source": [
    "import numpy as np\n",
    "import random as rn\n",
    "\n",
    "def getData():\n",
    "    file = open(\"res/spambase.data\", \"r\") \n",
    "    Data=[]    \n",
    "    for line in file:\n",
    "        floatLine = []\n",
    "        tmpLine = line.split(',')\n",
    "        Linelen = len(tmpLine)            \n",
    "        for i in range(0,Linelen):\n",
    "            floatLine.append(float(tmpLine[i]))            \n",
    "        Data.append(floatLine)                \n",
    "    file.closed   \n",
    "    return Data\n",
    "\n",
    "def getVectors(label, data):\n",
    "    vectors = []\n",
    "    for line in data:\n",
    "        #print(line[-1])\n",
    "        if(line[-1] == float(label)):\n",
    "            vectors.append(line[:-1])\n",
    "    return np.array(vectors)\n",
    "\n",
    "def getTestSample(Vecs, prob):\n",
    "    i = len(Vecs)\n",
    "    tmpVecs = []\n",
    "    for i in range(0,i):\n",
    "        rng = rn.random()\n",
    "        if(rng < prob):\n",
    "            tmpVecs.append(Vecs[i])    \n",
    "    return np.array(tmpVecs)\n",
    "\n",
    "def removeTestSamples(Vecs, TestVecs):\n",
    "    i = len(Vecs)\n",
    "    for vec in range(0,i):\n",
    "        Vecs = np.delete(Vecs, i)\n",
    "    return Vecs\n",
    "\n",
    "data = getData()\n",
    "#print(len(data))\n",
    "\n",
    "TrainVecsPos = getVectors(1, data)\n",
    "TrainVecsNeg = getVectors(0, data)\n",
    "\n",
    "TestVecsPos = []\n",
    "TestVecsNeg = []\n",
    "\n",
    "\n",
    "print(len(TrainVecsPos))\n",
    "#print(len(TrainVecsNeg))\n",
    "\n",
    "TestVecsPos = getTestSample(TrainVecsPos, 0.2)\n",
    "TrainVecsPos = removeTestSamples(TrainVecsPos, TestVecsPos)\n",
    "\n",
    "print(len(TrainVecsPos))\n",
    "print(len(TestVecsPos))"
   ]
  },
  {
   "cell_type": "code",
   "execution_count": null,
   "metadata": {
    "collapsed": true
   },
   "outputs": [],
   "source": []
  }
 ],
 "metadata": {
  "kernelspec": {
   "display_name": "Python 3",
   "language": "python",
   "name": "python3"
  },
  "language_info": {
   "codemirror_mode": {
    "name": "ipython",
    "version": 3
   },
   "file_extension": ".py",
   "mimetype": "text/x-python",
   "name": "python",
   "nbconvert_exporter": "python",
   "pygments_lexer": "ipython3",
   "version": "3.6.3"
  }
 },
 "nbformat": 4,
 "nbformat_minor": 2
}
