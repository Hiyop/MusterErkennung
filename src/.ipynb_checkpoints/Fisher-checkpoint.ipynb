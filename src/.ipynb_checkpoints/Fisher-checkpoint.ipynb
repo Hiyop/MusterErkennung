{
 "cells": [
  {
   "cell_type": "code",
   "execution_count": null,
   "metadata": {
    "collapsed": true
   },
   "outputs": [],
   "source": [
    "import numpy as np\n",
    "\n",
    "def getData(Numbers):\n",
    "    file = open(\"res/zip.train\", \"r\") \n",
    "    Data=[]    \n",
    "    for line in file:\n",
    "        for number in Numbers:\n",
    "            tmpLine = line.split()\n",
    "            if(float(tmpLine[0]) == float(number)):\n",
    "                floatLine = []\n",
    "                Linelen = len(tmpLine)            \n",
    "                for i in range(0,Linelen):\n",
    "                    floatLine.append(float(tmpLine[i]))\n",
    "                Data.append(floatLine)                \n",
    "    file.closed   \n",
    "    return Data\n"
   ]
  }
 ],
 "metadata": {
  "kernelspec": {
   "display_name": "Python 3",
   "language": "python",
   "name": "python3"
  },
  "language_info": {
   "codemirror_mode": {
    "name": "ipython",
    "version": 3
   },
   "file_extension": ".py",
   "mimetype": "text/x-python",
   "name": "python",
   "nbconvert_exporter": "python",
   "pygments_lexer": "ipython3",
   "version": "3.6.3"
  }
 },
 "nbformat": 4,
 "nbformat_minor": 2
}
