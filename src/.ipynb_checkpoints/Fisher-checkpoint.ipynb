{
 "cells": [
  {
   "cell_type": "code",
   "execution_count": 197,
   "metadata": {
    "scrolled": true
   },
   "outputs": [
    {
     "name": "stdout",
     "output_type": "stream",
     "text": [
      "Klasse P\n",
      "Mittelwert: 0.836831204105785\n",
      "Varianz: 0.1994544442581526\n",
      "Klasse N\n",
      "Mittelwert: -0.13576213655875013\n",
      "Varianz: 0.15783189317194168\n"
     ]
    },
    {
     "data": {
      "image/png": "[encoded data removed]",
      "text/plain": [
       "<matplotlib.figure.Figure at 0xb73292d710>"
      ]
     },
     "metadata": {},
     "output_type": "display_data"
    },
    {
     "name": "stdout",
     "output_type": "stream",
     "text": [
      "Tests: 921 Erfolge: 838 Erfolgsrate: 0.9098805646036916\n"
     ]
    }
   ],
   "source": [
    "import numpy as np\n",
    "import random as rn\n",
    "import pylab\n",
    "from numpy.linalg import pinv\n",
    "from numpy.linalg import inv\n",
    "from numpy.linalg import norm\n",
    "from sklearn.cross_validation import train_test_split\n",
    "\n",
    "def getData():\n",
    "    file = open(\"res/spambase.data\", \"r\") \n",
    "    Data=[]    \n",
    "    for line in file:\n",
    "        floatLine = []\n",
    "        tmpLine = line.split(',')\n",
    "        Linelen = len(tmpLine)            \n",
    "        for i in range(0,Linelen):\n",
    "            floatLine.append(float(tmpLine[i]))            \n",
    "        Data.append(floatLine)                \n",
    "    file.closed   \n",
    "    return Data\n",
    "\n",
    "def MittelPunktVector(VecList):    \n",
    "    M = np.array(VecList[0])\n",
    "    n = len(VecList)    \n",
    "    for i in range(1,n):\n",
    "        tmpVec = np.array(VecList[i])\n",
    "        M = M + tmpVec\n",
    "    M = M / (n) \n",
    "    return np.matrix(M)\n",
    "\n",
    "def getKovarianzMatrix(Data, M):  \n",
    "    n = len(Data)    \n",
    "    x = np.matrix(Data[0])\n",
    "    X = np.transpose((x - M)) @ (x - M)   \n",
    "    for i in range(1,n):        \n",
    "        x = np.matrix(Data[i])\n",
    "        tmpX = np.transpose((x - M)) @ (x - M)        \n",
    "        X = X + tmpX        \n",
    "\n",
    "    return (X / n)\n",
    "\n",
    "def gauß(x, mean ,var):\n",
    "    return (1 / np.sqrt(2 * np.pi * var )) * np.exp( -((x - mean)**2/(2 * var)))\n",
    "\n",
    "\n",
    "data = getData()\n",
    "\n",
    "TrainVecsP = getVectors(1, data)\n",
    "TrainVecsN = getVectors(0, data)\n",
    "\n",
    "TrainVecsP ,TestVecsP = train_test_split(TrainVecsP,test_size=0.2)\n",
    "TrainVecsN ,TestVecsN = train_test_split(TrainVecsN,test_size=0.2)\n",
    "\n",
    "mu_p = MittelPunktVector(TrainVecsP)\n",
    "mu_n = MittelPunktVector(TrainVecsN)\n",
    "\n",
    "kov_p = getKovarianzMatrix(TrainVecsP, mu_p)\n",
    "kov_n = getKovarianzMatrix(TrainVecsN, mu_n)\n",
    "\n",
    "alpha = inv((kov_p + kov_n)) @ np.transpose(mu_p - mu_n)\n",
    "alpha = alpha/norm(alpha)\n",
    "alpha = np.transpose(alpha)\n",
    "\n",
    "\n",
    "var_p = float(np.transpose(alpha) @ kov_p @ alpha)\n",
    "var_n = float(np.transpose(alpha) @ kov_n @ alpha)\n",
    "\n",
    "mu_p_projected = float(np.dot(mu_p,alpha))\n",
    "mu_n_projected = float(np.dot(mu_n,alpha))\n",
    "\n",
    "print(\"Klasse P\")\n",
    "print(\"Mittelwert: \" + str(mu_p_projected))\n",
    "print(\"Varianz: \" + str(var_p))\n",
    "\n",
    "print(\"Klasse N\")\n",
    "print(\"Mittelwert: \" + str(mu_n_projected))\n",
    "print(\"Varianz: \" + str(var_n))\n",
    "\n",
    "\n",
    "\n",
    "x = np.linspace(-1.5,2,100)\n",
    "y = gauß(x, mu_p_projected, var_p)\n",
    "pylab.plot(x,y)\n",
    "\n",
    "\n",
    "x = np.linspace(-1.5,2,100)\n",
    "y = gauß(x, mu_n_projected, var_n)\n",
    "pylab.plot(x,y)\n",
    "\n",
    "pylab.show()\n",
    "\n",
    "\n",
    "success = 0\n",
    "\n",
    "tests = len(TestVecsP) + len(TestVecsN)\n",
    "\n",
    "for vector in TestVecsP:\n",
    "    proj_vector = float(np.dot(vector,alpha))\n",
    "    prob_p = gauß(proj_vector, mu_p_projected, var_p)\n",
    "    prob_n = gauß(proj_vector, mu_n_projected, var_n)\n",
    "    if(prob_p > prob_n):\n",
    "        success += 1\n",
    "\n",
    "for vector in TestVecsN:\n",
    "    proj_vector = float(np.dot(vector,alpha))\n",
    "    prob_p = gauß(proj_vector, mu_p_projected, var_p)\n",
    "    prob_n = gauß(proj_vector, mu_n_projected, var_n)\n",
    "    if(prob_n > prob_p):\n",
    "        success += 1\n",
    "\n",
    "print(\"Tests: \" + str(tests) + \" Erfolge: \" + str(success) + \" Erfolgsrate: \" + str(success/tests))\n"
   ]
  }
 ],
 "metadata": {
  "kernelspec": {
   "display_name": "Python 3",
   "language": "python",
   "name": "python3"
  },
  "language_info": {
   "codemirror_mode": {
    "name": "ipython",
    "version": 3
   },
   "file_extension": ".py",
   "mimetype": "text/x-python",
   "name": "python",
   "nbconvert_exporter": "python",
   "pygments_lexer": "ipython3",
   "version": "3.6.3"
  }
 },
 "nbformat": 4,
 "nbformat_minor": 2
}
