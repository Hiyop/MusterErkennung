{
 "cells": [
  {
   "cell_type": "markdown",
   "metadata": {},
   "source": [
    "# Mustererkennung Übung 4\n",
    "Samuel Gfrörer <br>\n",
    "Marcel Schmidt <br>"
   ]
  },
  {
   "cell_type": "code",
   "execution_count": 482,
   "metadata": {
    "scrolled": true
   },
   "outputs": [],
   "source": [
    "import numpy as np\n",
    "import random as rn\n",
    "import pylab\n",
    "from numpy.linalg import pinv\n",
    "from numpy.linalg import norm\n",
    "from sklearn.cross_validation import train_test_split\n",
    "\n",
    "def getData():\n",
    "    file = open(\"res/spambase.data\", \"r\") \n",
    "    Data=[]    \n",
    "    for line in file:\n",
    "        floatLine = []\n",
    "        tmpLine = line.split(',')\n",
    "        Linelen = len(tmpLine)            \n",
    "        for i in range(0,Linelen):\n",
    "            floatLine.append(float(tmpLine[i]))            \n",
    "        Data.append(floatLine)                \n",
    "    file.closed   \n",
    "    return Data"
   ]
  },
  {
   "cell_type": "markdown",
   "metadata": {},
   "source": [
    "## Hilfsfunktionen\n",
    "\n",
    "- MittelPunktVector(VecList): Berechnung des Mittelpunktvektors aus einer Liste von Vektoren $\\vec v_0$ bis $\\vec v_N$  \n",
    "  \n",
    "$$\\vec M = \\frac{1}{N} \\sum_{i = 0}^N \\vec v_i $$  \n",
    "  \n",
    "- getKovarianzMatrix(Data, M): Berechnung der Kovarianzmatrix $\\Sigma$ aus einer Liste von Vektoren $\\vec v_0$ bis $\\vec v_N$ und zugehörigem Mittelpunktvektor $\\vec M$  \n",
    "  \n",
    "$$\\Sigma = \\frac{1}{N}\\sum_{i = 0}^N (\\vec v_i - \\vec M)(\\vec v_i - \\vec M)^T $$  \n",
    "  \n",
    "- gauß(x, mean, var): Berechnung der Wahrscheinlichkeitsdichte p(x) für Mittelwert $\\mu$ und Varianz $\\sigma^2$ mit gaußscher Normalverteilung  \n",
    "  \n",
    "$$p(x) = \\frac{1}{ \\sqrt{2  \\pi \\sigma^2} } e^{-\\frac{(x - \\mu)^2}{2 \\sigma^2}} $$"
   ]
  },
  {
   "cell_type": "code",
   "execution_count": 483,
   "metadata": {},
   "outputs": [],
   "source": [
    "def MittelPunktVector(VecList):    \n",
    "    M = np.array(VecList[0])\n",
    "    n = len(VecList)    \n",
    "    for i in range(1,n):\n",
    "        tmpVec = np.array(VecList[i])\n",
    "        M = M + tmpVec\n",
    "    M = M / (n) \n",
    "    return M\n",
    "\n",
    "def getKovarianzMatrix(Data, M):  \n",
    "    n = len(Data)    \n",
    "    x = np.matrix(Data[0])\n",
    "    X = np.transpose((x - M)) @ (x - M)   \n",
    "    for i in range(1,n):        \n",
    "        x = np.matrix(Data[i])\n",
    "        tmpX = np.transpose((x - M)) @ (x - M)        \n",
    "        X = X + tmpX        \n",
    "\n",
    "    return (X / n)\n",
    "\n",
    "def gauß(x, mean, var):\n",
    "    return (1 / np.sqrt(2 * np.pi * var )) * np.exp( -((x - mean)**2/(2 * var)))"
   ]
  },
  {
   "cell_type": "markdown",
   "metadata": {},
   "source": [
    "## Berechnung von Projektionsvektor alpha, Mittelwert und Varianz"
   ]
  },
  {
   "cell_type": "markdown",
   "metadata": {},
   "source": [
    "- Einlesen der Vektoren\n",
    "- Aufteilen in positive und negative Klassen\n",
    "- Zufälliges Aufspalten in 20% Testdaten und 80% Trainingsdaten"
   ]
  },
  {
   "cell_type": "code",
   "execution_count": 484,
   "metadata": {},
   "outputs": [],
   "source": [
    "data = getData()\n",
    "\n",
    "TrainVecsP = getVectors(1, data)\n",
    "TrainVecsN = getVectors(0, data)\n",
    "\n",
    "TrainVecsP ,TestVecsP = train_test_split(TrainVecsP,test_size=0.2)\n",
    "TrainVecsN ,TestVecsN = train_test_split(TrainVecsN,test_size=0.2)\n"
   ]
  },
  {
   "cell_type": "markdown",
   "metadata": {},
   "source": [
    "- Berechnung der Mittelpunktsvektoren und Kovarianzmatrizen für P und N"
   ]
  },
  {
   "cell_type": "code",
   "execution_count": 485,
   "metadata": {},
   "outputs": [],
   "source": [
    "mu_p = MittelPunktVector(TrainVecsP)\n",
    "mu_n = MittelPunktVector(TrainVecsN)\n",
    "\n",
    "kov_p = getKovarianzMatrix(TrainVecsP, mu_p)\n",
    "kov_n = getKovarianzMatrix(TrainVecsN, mu_n)\n"
   ]
  },
  {
   "cell_type": "markdown",
   "metadata": {},
   "source": [
    "- Berechnung von alpha mit den Kovarianzmatrizen $\\Sigma_P$, $\\Sigma_N$ und den Mittelpunktvektoren $\\vec \\mu_P$, $\\vec \\mu_N$ (c = 1, da $\\vec \\alpha$ danach auf Länge 1 normiert wird und Skalierung damit egal )  \n",
    "  \n",
    "$$ \\vec \\alpha = c (\\Sigma_P + \\Sigma_N)^{-1} (\\vec \\mu_P - \\vec \\mu_N) $$\n",
    "\n",
    "- Berechnung der Varianzen $\\sigma^2$ für P und N  \n",
    "  \n",
    "$$ \\sigma^2 = \\vec \\alpha^T \\Sigma  \\vec \\alpha $$\n",
    "  \n",
    "- Berechnung des projizierten Mittelwerts $\\mu_p$  \n",
    "  \n",
    "$$ \\mu_p = \\vec \\mu \\cdot \\vec \\alpha  $$"
   ]
  },
  {
   "cell_type": "code",
   "execution_count": 486,
   "metadata": {},
   "outputs": [],
   "source": [
    "alpha = pinv((kov_p + kov_n)) @ np.transpose(mu_p - mu_n)\n",
    "alpha = alpha/norm(alpha)\n",
    "alpha = np.transpose(alpha)\n",
    "\n",
    "var_p = float(np.transpose(alpha) @ kov_p @ alpha)\n",
    "var_n = float(np.transpose(alpha) @ kov_n @ alpha)\n",
    "\n",
    "mu_p_projected = float(np.dot(mu_p,alpha))\n",
    "mu_n_projected = float(np.dot(mu_n,alpha))"
   ]
  },
  {
   "cell_type": "markdown",
   "metadata": {},
   "source": [
    "## Plotten der beiden Dichtefunktionen"
   ]
  },
  {
   "cell_type": "code",
   "execution_count": 487,
   "metadata": {},
   "outputs": [
    {
     "name": "stdout",
     "output_type": "stream",
     "text": [
      "Klasse P\n",
      "Mittelwert: 0.8645775209011104\n",
      "Varianz: 0.2173641365447485\n",
      "\n",
      "Klasse N\n",
      "Mittelwert: -0.1386796507754146\n",
      "Varianz: 0.17663338861753825\n"
     ]
    },
    {
     "data": {
      "image/png": "[encoded data removed]",
      "text/plain": [
       "<matplotlib.figure.Figure at 0xb730a29080>"
      ]
     },
     "metadata": {},
     "output_type": "display_data"
    }
   ],
   "source": [
    "print(\"Klasse P\")\n",
    "print(\"Mittelwert: \" + str(mu_p_projected))\n",
    "print(\"Varianz: \" + str(var_p))\n",
    "print(\"\")\n",
    "print(\"Klasse N\")\n",
    "print(\"Mittelwert: \" + str(mu_n_projected))\n",
    "print(\"Varianz: \" + str(var_n))\n",
    "\n",
    "\n",
    "\n",
    "x = np.linspace(-1.5,2,100)\n",
    "y = gauß(x, mu_p_projected, var_p)\n",
    "pylab.plot(x,y)\n",
    "\n",
    "\n",
    "x = np.linspace(-1.5,2,100)\n",
    "y = gauß(x, mu_n_projected, var_n)\n",
    "pylab.plot(x,y)\n",
    "\n",
    "pylab.show()"
   ]
  },
  {
   "cell_type": "markdown",
   "metadata": {},
   "source": [
    "## Projizierung und Klassifizierung der Testdaten"
   ]
  },
  {
   "cell_type": "code",
   "execution_count": 488,
   "metadata": {},
   "outputs": [
    {
     "name": "stdout",
     "output_type": "stream",
     "text": [
      "Tests: 921 Erfolge: 840 Erfolgsrate: 0.9120521172638436\n"
     ]
    }
   ],
   "source": [
    "success = 0\n",
    "tests = len(TestVecsP) + len(TestVecsN)\n",
    "\n",
    "for vector in TestVecsP:\n",
    "    proj_vector = float(np.dot(vector,alpha))\n",
    "    prob_p = gauß(proj_vector, mu_p_projected, var_p)\n",
    "    prob_n = gauß(proj_vector, mu_n_projected, var_n)\n",
    "    if(prob_p > prob_n):\n",
    "        success += 1\n",
    "\n",
    "for vector in TestVecsN:\n",
    "    proj_vector = float(np.dot(vector,alpha))\n",
    "    prob_p = gauß(proj_vector, mu_p_projected, var_p)\n",
    "    prob_n = gauß(proj_vector, mu_n_projected, var_n)\n",
    "    if(prob_n > prob_p):\n",
    "        success += 1\n",
    "\n",
    "print(\"Tests: \" + str(tests) + \" Erfolge: \" + str(success) + \" Erfolgsrate: \" + str(success/tests))"
   ]
  }
 ],
 "metadata": {
  "kernelspec": {
   "display_name": "Python 3",
   "language": "python",
   "name": "python3"
  },
  "language_info": {
   "codemirror_mode": {
    "name": "ipython",
    "version": 3
   },
   "file_extension": ".py",
   "mimetype": "text/x-python",
   "name": "python",
   "nbconvert_exporter": "python",
   "pygments_lexer": "ipython3",
   "version": "3.6.3"
  }
 },
 "nbformat": 4,
 "nbformat_minor": 2
}
