{
 "cells": [
  {
   "cell_type": "markdown",
   "metadata": {},
   "source": [
    "# Mustererkennung Übung 2\n",
    "Samuel Gfrörer <br>\n",
    "Marcel Schmidt <br>\n",
    "\n",
    "### Einlesen der Datensätze\n"
   ]
  },
  {
   "cell_type": "code",
   "execution_count": null,
   "metadata": {
    "collapsed": true
   },
   "outputs": [],
   "source": [
    "import numpy as np\n",
    "from numpy.linalg import inv\n",
    "from numpy.linalg import cond\n",
    "\n",
    "#Lese Trainingsdaten\n",
    "file = open(\"res/zip.train\", \"r\") \n",
    "TrainData=[]\n",
    "for line in file:\n",
    "    tmpLine = line.split()\n",
    "    floatLine = []\n",
    "    Linelen = len(tmpLine)\n",
    "    for i in range(0,Linelen):\n",
    "        floatLine.append(float(tmpLine[i])),\n",
    "    TrainData.append(floatLine),\n",
    "\n",
    "file.closed\n",
    "\n",
    "#Lese Testdaten\n",
    "file = open(\"res/zip.test\", \"r\") \n",
    "TestData=[]\n",
    "for line in file:\n",
    "    tmpLine = line.split()\n",
    "    floatLine = []\n",
    "    Linelen = len(tmpLine)\n",
    "    \n",
    "    for i in range(0,Linelen):\n",
    "        floatLine.append(float(tmpLine[i])),\n",
    "        \n",
    "    TestData.append(floatLine),\n",
    "\n",
    "file.closed"
   ]
  },
  {
   "cell_type": "markdown",
   "metadata": {},
   "source": [
    "### Hilfsfunktionen\n",
    "\n",
    "#### prepareMatrix( a, b, Data):\n",
    "    erstelle Matrix für die Zahlen a,b aus dem Datensatz\n",
    "\n",
    "#### prepareLabelVector( a, b, Data):\n",
    "    erstelle Vector mit +1 und -1 Label für die Zahlen a,b aus dem Datensatz\n",
    "    \n",
    "#### is_matrix_invertible(matrix):\n",
    "    überprüfe ob die Matrix invertierbar ist\n"
   ]
  },
  {
   "cell_type": "code",
   "execution_count": 145,
   "metadata": {
    "collapsed": true
   },
   "outputs": [],
   "source": [
    "def prepareMatrix(a, b, Data):\n",
    "    \n",
    "    matrRows = []\n",
    "    \n",
    "    for row in Data:\n",
    "        if(row[0] == a or row[0] == b):\n",
    "            tmp_row = list(row)\n",
    "            tmp_row[0] = 1\n",
    "            matrRows.append(tmp_row)\n",
    "        #elif(row[0] == b):\n",
    "        #    tmp_row = list(row)\n",
    "        #    tmp_row[0] = 1\n",
    "        #    matrRows.append(tmp_row)     \n",
    "\n",
    "    #print(matrRows)\n",
    "    return np.array(matrRows)\n",
    "\n",
    "\n",
    "def prepareLabelVector(a, b, Data):\n",
    "    \n",
    "    binlabels = []\n",
    "    \n",
    "    for row in Data:        \n",
    "        if(row[0] == a):            \n",
    "            binlabels.append(1.0)\n",
    "        elif(row[0] == b):            \n",
    "            binlabels.append(-1.0)\n",
    "            \n",
    "    return np.array(binlabels)\n",
    "\n",
    "def is_matrix_invertible(matrix):\n",
    "    return cond(matrix) < 1 / np.spacing(1)"
   ]
  },
  {
   "cell_type": "markdown",
   "metadata": {},
   "source": [
    "### Klassifizierungs Funktion\n",
    "    Klassifiziert die Zahlen a, b mit Hilfe der Trainings- und Testdaten \n",
    "    und gibt Fehlerrate zurück\n",
    "    "
   ]
  },
  {
   "cell_type": "code",
   "execution_count": 146,
   "metadata": {
    "collapsed": true
   },
   "outputs": [],
   "source": [
    " def classify (a, b):    \n",
    "    #origLabels = getLabels(a, b, TrainData)\n",
    "    X = prepareMatrix(a,b, TrainData)\n",
    "    y = prepareLabelVector(a,b, TrainData)\n",
    "    \n",
    "    #testLabels = getLabels(a, b, TestData)\n",
    "    Xtest = prepareMatrix(a,b, TestData)\n",
    "    ytest = prepareLabelVector(a,b, TestData)\n",
    "\n",
    "    Xt = X.transpose()\n",
    "\n",
    "    XtX = Xt @ X \n",
    "    \n",
    "    #Überprüfe ob Matrix invertierbar, \n",
    "    #wenn nicht füge solange Fehler hinzu, bis sie invertierbar ist\n",
    "    \n",
    "    error = 0.01\n",
    "    attempts = 1000\n",
    "    while((not is_matrix_invertible(XtX)) and (attempts >= 0)):\n",
    "        XtX = XtX + (error * np.identity(XtX.shape[0]))\n",
    "        error = error + 0.01\n",
    "        attempts = attempts - 1    \n",
    "    \n",
    "    if(is_matrix_invertible(XtX)):\n",
    "        XXtinv = inv(XtX)\n",
    "    else:\n",
    "        print(\"Matrix invertierung gescheitert, evtl attempts erhöhen\")\n",
    "        return\n",
    "    \n",
    "    #Berechne beta Vector    \n",
    "    beta = XXtinv @ Xt @ y\n",
    "    \n",
    "    \n",
    "    #Ermittle Ergebnisslabel mit den Testdaten und beta\n",
    "    ergs = Xtest @ beta\n",
    "\n",
    "    #Überprüfe das Ergebniss und berechne Fehler\n",
    "    fails = 0   \n",
    "    #print(ergs)\n",
    "    for i in range(0, ergs.shape[0]):\n",
    "        if(ergs[i] < 0):\n",
    "            ergs[i] = -1.0\n",
    "        else:\n",
    "            ergs[i] = 1.0\n",
    "\n",
    "        if ergs[i] == ytest[i]:\n",
    "            matchStr = \"Match\"\n",
    "        else: \n",
    "            matchStr = \"Fail\"\n",
    "            fails = fails + 1\n",
    "\n",
    "    #print(str(i) + \": \" + str(y[i]) + \" : \" + str(ergs[i]) + \" \" + matchStr)\n",
    "    #print(\"\")\n",
    "    print(\"Überprüfe: \" + str(a) + \", \" + str(b))\n",
    "    print(\"Failcount: \" + str(fails) + \" von \" + str(ergs.shape[0]))    \n",
    "    sucrate = 1 - (fails / ergs.shape[0])\n",
    "    print(\"Klassifikationsgenauigkeit: \" + str(sucrate))\n",
    "    print(\"\")\n",
    "    return"
   ]
  },
  {
   "cell_type": "markdown",
   "metadata": {},
   "source": [
    "### Aufrufe für die 6 Zahlenpaarungen"
   ]
  },
  {
   "cell_type": "code",
   "execution_count": 147,
   "metadata": {},
   "outputs": [
    {
     "name": "stdout",
     "output_type": "stream",
     "text": [
      "Überprüfe: 3, 5\n",
      "Failcount: 23 von 326\n",
      "Klassifikationsgenauigkeit: 0.9294478527607362\n",
      "\n",
      "Überprüfe: 3, 7\n",
      "Failcount: 8 von 313\n",
      "Klassifikationsgenauigkeit: 0.9744408945686901\n",
      "\n",
      "Überprüfe: 3, 8\n",
      "Failcount: 16 von 332\n",
      "Klassifikationsgenauigkeit: 0.9518072289156626\n",
      "\n",
      "Überprüfe: 5, 7\n",
      "Failcount: 5 von 307\n",
      "Klassifikationsgenauigkeit: 0.9837133550488599\n",
      "\n",
      "Überprüfe: 5, 8\n",
      "Failcount: 12 von 326\n",
      "Klassifikationsgenauigkeit: 0.9631901840490797\n",
      "\n",
      "Überprüfe: 7, 8\n",
      "Failcount: 7 von 313\n",
      "Klassifikationsgenauigkeit: 0.9776357827476039\n",
      "\n"
     ]
    }
   ],
   "source": [
    "classify(3,5)\n",
    "classify(3,7)\n",
    "classify(3,8)\n",
    "classify(5,7)\n",
    "classify(5,8)\n",
    "classify(7,8)"
   ]
  }
 ],
 "metadata": {
  "kernelspec": {
   "display_name": "Python 3",
   "language": "python",
   "name": "python3"
  },
  "language_info": {
   "codemirror_mode": {
    "name": "ipython",
    "version": 3
   },
   "file_extension": ".py",
   "mimetype": "text/x-python",
   "name": "python",
   "nbconvert_exporter": "python",
   "pygments_lexer": "ipython3",
   "version": "3.6.3"
  }
 },
 "nbformat": 4,
 "nbformat_minor": 2
}
