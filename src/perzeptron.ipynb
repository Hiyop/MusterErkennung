{
 "cells": [
  {
   "cell_type": "markdown",
   "metadata": {},
   "source": [
    "# Mustererkennung Übung 6\n",
    "Samuel Gfrörer <br>\n",
    "Marcel Schmidt <br>\n",
    "\n",
    "### Hilfsfunktionen für Datenvorbereitung"
   ]
  },
  {
   "cell_type": "code",
   "execution_count": 21,
   "metadata": {},
   "outputs": [],
   "source": [
    "import numpy as np\n",
    "from sklearn.model_selection import train_test_split\n",
    "\n",
    "\n",
    "def splitData(data):    \n",
    "    vecList = []\n",
    "    labelList = []     \n",
    "    \n",
    "    for i in range(0,len(data)):\n",
    "        #if(data[i][4] == p_label or data[i][4] == n_label):\n",
    "            labelList.append(data[i][4])\n",
    "            vecList.append(np.append(1,data[i][0:4]))    \n",
    "    \n",
    "    return (np.array(vecList).astype(np.float), np.array(labelList))\n",
    "\n",
    "def selectData(p_label, n_label, data):    \n",
    "    new_data = []\n",
    "    \n",
    "    for i in range(0,len(data)):\n",
    "        if(data[i][4] == p_label or data[i][4] == n_label):\n",
    "            new_data.append(data[i])\n",
    "    return new_data"
   ]
  },
  {
   "cell_type": "markdown",
   "metadata": {},
   "source": [
    "### Aufgabe 1\n",
    "\n",
    "Perzeptron implementierung:\n",
    "- Initialisieren zufälligen Vektor $\\vec \\omega$ mit threshold als 1. Wert\n",
    "- Wählen zufälligen Vektor aus der Vektorenliste. Falls Vektor zur positiven Klasse gehört, wird überprüft ob das Skalaprodukt von $\\vec \\omega$ und dem Vektor < 0 ist und falls ja wird $\\vec \\omega$ mit dem Vektor addiert. Analog dazu der Fall, dass der Vektor zu negativen Klasse gehört mit Überprüfung ob das Skalarprodukt >= 0 ist und ggf. Subtraktion.\n",
    "- Die Schleife läuft so lange, bis ein $\\vec \\omega$ gefunden wurde, der alle Trainingsdaten korrekt klassifiziert. Der Algorithmuss kann in einer Endlosschleife enden."
   ]
  },
  {
   "cell_type": "code",
   "execution_count": 22,
   "metadata": {},
   "outputs": [],
   "source": [
    "def perzeptron(vecList_train, labelList_train, p_label, n_label, threshold):    \n",
    "    omega = [threshold]\n",
    "    \n",
    "    for i in range(0,len(vecList_train[0])-1):\n",
    "        omega.append(np.random.rand())\n",
    "    \n",
    "    omega = np.array(omega)    \n",
    " \n",
    "    check = True\n",
    "    \n",
    "    while(check):\n",
    "        \n",
    "        check = False; \n",
    "        \n",
    "        for i in range(0,len(vecList_train)):\n",
    "            if(labelList_train[i] == p_label ):\n",
    "                if(vecList_train[i] @ omega < 0):\n",
    "                    check = (check or True)   \n",
    "                    \n",
    "            else:\n",
    "                if(vecList_train[i] @ omega >= 0):\n",
    "                    check = (check or True)       \n",
    "        \n",
    "        rng = np.random.randint(len(vecList_train))\n",
    "        vec = vecList_train[rng]\n",
    "        label = labelList_train[rng]\n",
    "        \n",
    "        if(label == p_label):\n",
    "            if(vec @ omega < 0):\n",
    "                omega += vec\n",
    "        elif(label == n_label):\n",
    "            if(vec @ omega >= 0):\n",
    "                omega -= vec\n",
    "                \n",
    "    return omega"
   ]
  },
  {
   "cell_type": "markdown",
   "metadata": {},
   "source": [
    "### Aufgabe 2\n",
    "\n",
    "Pocket Perzeptron implementierung:\n",
    "- Verläuft analog zu Perzeptron, nur dass wir uns für jeden Durchlauf das beste Omega speichern und die Anzahl der Fehlklassifizierungen dieses Omegas am Trainignsdatensatz. \n",
    "- Für jeden neuen Vektor $\\vec \\omega$ wird überprüft ob dieser weniger Fehler beim Klassifizieren macht und falls ja wird dieser zum besten $\\vec \\omega$.\n",
    "- Immer wenn ein neuer Vektor $\\vec \\omega$ berechnet wird, werden die Versuche um 1 verringert bis die Schleife irgendwann abbricht. Sollte ein $\\vec \\omega$ gefunden werden, der keine Fehler beim Klassifizieren macht, wird sofort abgebrochen"
   ]
  },
  {
   "cell_type": "code",
   "execution_count": 23,
   "metadata": {},
   "outputs": [],
   "source": [
    "def pocket_perzeptron(vecList_train, labelList_train, p_label, n_label, threshold, attempts):\n",
    "    \n",
    "    omega = [threshold]\n",
    "    \n",
    "    for i in range(0,len(vecList_train[0])-1):\n",
    "        omega.append(np.random.rand())\n",
    "    \n",
    "    omega = np.array(omega)    \n",
    "    best_omega = omega  \n",
    "    last_fails = len(vecList_train) + 1\n",
    "    \n",
    "    while(attempts > 0):        \n",
    "        fails = 0              \n",
    "        \n",
    "        for i in range(0,len(vecList_train)):\n",
    "            if(labelList_train[i] == p_label ):\n",
    "                if(vecList_train[i] @ omega < 0):                      \n",
    "                    fails += 1\n",
    "            else:\n",
    "                if(vecList_train[i] @ omega >= 0):                          \n",
    "                    fails += 1\n",
    "        \n",
    "        if(fails <= 0):\n",
    "            attempts = 0       \n",
    "       \n",
    "        if(last_fails > fails):            \n",
    "            best_omega = omega\n",
    "            last_fails = fails         \n",
    "        \n",
    "        rng = np.random.randint(len(vecList_train))\n",
    "        vec = vecList_train[rng]\n",
    "        label = labelList_train[rng]\n",
    "        \n",
    "        if(label == p_label):\n",
    "            if(vec @ omega < 0):\n",
    "                omega += vec\n",
    "                attempts -= 1 \n",
    "        elif(label == n_label):\n",
    "            if(vec @ omega >= 0):\n",
    "                omega -= vec\n",
    "                attempts -= 1 \n",
    "           \n",
    "   \n",
    "    return best_omega"
   ]
  },
  {
   "cell_type": "markdown",
   "metadata": {},
   "source": [
    "### Klassifizierungs-Funktion für einen gegebenen Vektor $\\vec \\omega$ und Trainingsdatensatz"
   ]
  },
  {
   "cell_type": "code",
   "execution_count": 24,
   "metadata": {},
   "outputs": [],
   "source": [
    "def classify_perzeptron(vecList_test,labelList_test, p_label, omega):\n",
    "    fails = 0\n",
    "    \n",
    "    for i in range(0,len(vecList_test)):  \n",
    "        if(labelList_test[i] == p_label ):            \n",
    "            if(vecList_test[i] @ omega < 0):\n",
    "                fails += 1                   \n",
    "        else:            \n",
    "            if(vecList_test[i] @ omega >= 0):\n",
    "                fails += 1                 \n",
    "    \n",
    "    print(\"Güte: \" + str(1- (fails/len(vecList_test))))\n",
    "    return"
   ]
  },
  {
   "cell_type": "markdown",
   "metadata": {},
   "source": [
    "### Laden der jeweiligen Datensätze und Ausführung der Funktionen."
   ]
  },
  {
   "cell_type": "code",
   "execution_count": 25,
   "metadata": {},
   "outputs": [
    {
     "name": "stdout",
     "output_type": "stream",
     "text": [
      "Güte: 1.0\n",
      "Güte: 0.85\n"
     ]
    }
   ],
   "source": [
    "data = np.genfromtxt('res/iris.data',dtype=str, delimiter=',')\n",
    "    \n",
    "data = selectData(\"Iris-setosa\", \"Iris-virginica\", data)\n",
    "    \n",
    "TrainData ,TestData = train_test_split(data,test_size=0.20)\n",
    "    \n",
    "vecList_train , labelList_train = splitData(TrainData)\n",
    "    \n",
    "vecList_test , labelList_test = splitData(TestData)\n",
    "\n",
    "\n",
    "omega = perzeptron(vecList_train, labelList_train,  \"Iris-setosa\", \"Iris-virginica\", 0.1)   \n",
    "classify_perzeptron(vecList_test,labelList_test,\"Iris-setosa\",omega)\n",
    "\n",
    "\n",
    "data = np.genfromtxt('res/iris.data',dtype=str, delimiter=',')\n",
    "    \n",
    "data = selectData(\"Iris-versicolor\", \"Iris-virginica\", data)\n",
    "    \n",
    "TrainData ,TestData = train_test_split(data,test_size=0.20)\n",
    "    \n",
    "vecList_train , labelList_train = splitData(TrainData)\n",
    "    \n",
    "vecList_test , labelList_test = splitData(TestData)\n",
    "\n",
    "omega = pocket_perzeptron(vecList_train, labelList_train,\"Iris-versicolor\", \"Iris-virginica\", 0.1, 1000)\n",
    "classify_perzeptron(vecList_test,labelList_test,\"Iris-versicolor\",omega )"
   ]
  }
 ],
 "metadata": {
  "kernelspec": {
   "display_name": "Python 3",
   "language": "python",
   "name": "python3"
  },
  "language_info": {
   "codemirror_mode": {
    "name": "ipython",
    "version": 3
   },
   "file_extension": ".py",
   "mimetype": "text/x-python",
   "name": "python",
   "nbconvert_exporter": "python",
   "pygments_lexer": "ipython3",
   "version": "3.6.3"
  }
 },
 "nbformat": 4,
 "nbformat_minor": 2
}
