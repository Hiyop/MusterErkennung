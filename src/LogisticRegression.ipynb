{
 "cells": [
  {
   "cell_type": "markdown",
   "metadata": {},
   "source": [
    "# Mustererkennung Übung 7\n",
    "Samuel Gfrörer <br>\n",
    "Marcel Schmidt <br>\n",
    "\n",
    "### Hilfsfunktionen für Datenvorbereitung"
   ]
  },
  {
   "cell_type": "code",
   "execution_count": 3,
   "metadata": {
    "collapsed": true
   },
   "outputs": [],
   "source": [
    "import numpy as np\n",
    "from sklearn.model_selection import train_test_split\n",
    "import matplotlib.pyplot as plt\n",
    "\n",
    "def getData():\n",
    "    file = open(\"res/spambase.data\", \"r\") \n",
    "    Data=[]    \n",
    "    for line in file:\n",
    "        floatLine = []\n",
    "        tmpLine = line.split(',')\n",
    "        Linelen = len(tmpLine)            \n",
    "        for i in range(0,Linelen):\n",
    "            floatLine.append(float(tmpLine[i]))            \n",
    "        Data.append(floatLine)                \n",
    "    file.closed   \n",
    "    return Data\n",
    "\n",
    "def getVectors(label, data):\n",
    "    vectors = []\n",
    "    for line in data:\n",
    "        if(line[-1] == float(label)):\n",
    "            vectors.append(line[:-1])\n",
    "    return np.array(vectors)"
   ]
  },
  {
   "cell_type": "markdown",
   "metadata": {},
   "source": [
    "### Normalisierung der Vektoren\n",
    "\n",
    "- berechne den Durchschnitt für jedes Feature der Vektoren \n",
    "- berechne die Varianz der Features\n",
    "- normalisiere jedes Feature für jeden Vektor"
   ]
  },
  {
   "cell_type": "code",
   "execution_count": 4,
   "metadata": {
    "collapsed": true
   },
   "outputs": [],
   "source": [
    "def normalizeVecs(vecList_p, vecList_n):\n",
    "    \n",
    "    fullList = np.concatenate((vecList_p, vecList_n), axis=0)\n",
    "    \n",
    "    meanVec = np.mean(fullList, axis=1)\n",
    "    varVec = np.zeros(fullList[0].shape)\n",
    "    for i in range(0,len(fullList)):\n",
    "        for j in range(0,len(fullList[0])):\n",
    "            varVec[j] += np.square(fullList[i][j] - meanVec[j])            \n",
    "    varVec = varVec / len(fullList)\n",
    "    \n",
    "    normalizedVecs_p = np.zeros(vecList_p.shape)\n",
    "    \n",
    "    for i in range(0,len(vecList_p)):\n",
    "        for j in range(0,len(vecList_p[0])):\n",
    "            normalizedVecs_p[i][j] = (vecList_p[i][j] - meanVec[j]) / varVec[j]\n",
    "            \n",
    "    normalizedVecs_n = np.zeros(vecList_n.shape)\n",
    "    \n",
    "    for i in range(0,len(vecList_n)):\n",
    "        for j in range(0,len(vecList_n[0])):\n",
    "            normalizedVecs_n[i][j] = (vecList_n[i][j] - meanVec[j]) / varVec[j]\n",
    "            \n",
    "    return (normalizedVecs_p, normalizedVecs_n)"
   ]
  },
  {
   "cell_type": "markdown",
   "metadata": {},
   "source": [
    "### Hilfsfunktionen\n",
    "\n",
    "- prob : Berechne Wahrscheinlichkeit, dass Vektor x zu Label y gehört\n",
    "- derivative : Berechne die Ableitung nach vektor Beta\n",
    "- newBeta: Berechne neuen Vektor beta aus dem altem Beta, der Schrittweite und der Ableitung nach Beta"
   ]
  },
  {
   "cell_type": "code",
   "execution_count": 5,
   "metadata": {
    "collapsed": true
   },
   "outputs": [],
   "source": [
    "def prob(y, x,  beta):\n",
    "    return 1 / (1 + np.exp(-y * (beta @ np.transpose(x))))\n",
    "\n",
    "def derivative(vecList_p, vecList_n, beta):\n",
    "    erg = np.zeros(vecList_p[0].shape)\n",
    "    for i in range(0,len(vecList_p)):\n",
    "        erg += 1 * vecList_p[i] * (1 - prob(1,np.array(vecList_p[i]),beta) )\n",
    "    for i in range(0,len(vecList_n)):\n",
    "        erg += (-1) * vecList_n[i] * (1 - prob((-1),np.array(vecList_n[i]),beta) )\n",
    "    return erg\n",
    "\n",
    "def newBeta(beta,vecList_p,vecList_n, gamma):     \n",
    "    return beta + gamma * derivative(vecList_p, vecList_n, beta)"
   ]
  },
  {
   "cell_type": "markdown",
   "metadata": {},
   "source": [
    "### Ausführung\n",
    "\n",
    "- Lese Daten ein und splitte in Trainings- und Testdaten\n",
    "- Starte mit einen zufälligem Beta und berechne wiederholt ein neues Beta mit gegebener Schrittweite\n",
    "- Klassifiziere den Trainingsdatensatz mit jedem neuen Beta"
   ]
  },
  {
   "cell_type": "code",
   "execution_count": 6,
   "metadata": {},
   "outputs": [
    {
     "data": {
      "image/png": "[encoded data removed]",
      "text/plain": [
       "<matplotlib.figure.Figure at 0xb04155ada0>"
      ]
     },
     "metadata": {},
     "output_type": "display_data"
    },
    {
     "name": "stdout",
     "output_type": "stream",
     "text": [
      "[[295  68]\n",
      " [ 31 527]]\n"
     ]
    }
   ],
   "source": [
    "data = getData()\n",
    "\n",
    "TrainVecsP = getVectors(1, data)\n",
    "TrainVecsN = getVectors(0, data)\n",
    "\n",
    "TrainVecsP, TrainVecsN = normalizeVecs(TrainVecsP, TrainVecsN)\n",
    "\n",
    "TrainVecsP ,TestVecsP = train_test_split(TrainVecsP,test_size=0.2)\n",
    "TrainVecsN ,TestVecsN = train_test_split(TrainVecsN,test_size=0.2)\n",
    "\n",
    "beta = []\n",
    "\n",
    "for i in range(0,len(TrainVecsP[1])):\n",
    "    beta.append(np.random.rand())\n",
    "    \n",
    "beta = np.array(beta)\n",
    "\n",
    "plotData = []\n",
    "\n",
    "for j in range(0,10000):\n",
    "    beta = newBeta(beta,np.array(TrainVecsP),np.array(TrainVecsN),0.0002)\n",
    "\n",
    "    fails = 0\n",
    "    checks = len(TestVecsP) + len(TestVecsN)\n",
    "\n",
    "    for vec in TestVecsP:\n",
    "        if(prob(1, vec, beta) < prob(-1, vec, beta)):\n",
    "            fails += 1  \n",
    "\n",
    "    for vec in TestVecsN:\n",
    "        if(prob(1, vec, beta) > prob(-1, vec, beta)):\n",
    "            fails += 1        \n",
    "    #print(1-(fails/checks))\n",
    "    plotData.append(1-(fails/checks))\n",
    "\n",
    "\n",
    "plt.plot(plotData)\n",
    "plt.show()\n",
    "\n",
    "beta = newBeta(beta,np.array(TrainVecsP),np.array(TrainVecsN),0.0002)\n",
    "\n",
    "kovMat = [[0,0],[0,0]]\n",
    "\n",
    "for vec in TestVecsP:\n",
    "    if(prob(1, vec, beta) < prob(-1, vec, beta)):\n",
    "        kovMat[0][1] += 1\n",
    "    else:\n",
    "        kovMat[0][0] += 1\n",
    "\n",
    "for vec in TestVecsN:\n",
    "    if(prob(1, vec, beta) > prob(-1, vec, beta)):\n",
    "        kovMat[1][0] += 1  \n",
    "    else:\n",
    "        kovMat[1][1] += 1\n",
    "        \n",
    "print(np.array(kovMat))\n"
   ]
  },
  {
   "cell_type": "markdown",
   "metadata": {},
   "source": [
    "#### Wie  könnte  man  das  Modell  anpassen,  um eine der Klassen zu bevorzugen?\n",
    "\n",
    "Anstatt sich für die Klasse mit der größeren Wahrscheinlichkeit zu entscheiden, könnte man für die Klasse , die man bevorzugen möchte, eine Mindestwahrscheinlichkeit festlegen, bei der man sich immer für diese Klasse entscheidet."
   ]
  }
 ],
 "metadata": {
  "kernelspec": {
   "display_name": "Python 3",
   "language": "python",
   "name": "python3"
  },
  "language_info": {
   "codemirror_mode": {
    "name": "ipython",
    "version": 3
   },
   "file_extension": ".py",
   "mimetype": "text/x-python",
   "name": "python",
   "nbconvert_exporter": "python",
   "pygments_lexer": "ipython3",
   "version": "3.6.3"
  }
 },
 "nbformat": 4,
 "nbformat_minor": 2
}
