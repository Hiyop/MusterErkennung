{
 "cells": [
  {
   "cell_type": "markdown",
   "metadata": {},
   "source": [
    "# Mustererkennung Übung 2\n",
    "Samuel Gfrörer <br>\n",
    "Marcel Schmidt <br>\n",
    "\n",
    "### Einlesen der Datensätze\n"
   ]
  },
  {
   "cell_type": "code",
   "execution_count": 1,
   "metadata": {},
   "outputs": [],
   "source": [
    "import numpy as np\n",
    "from numpy.linalg import inv\n",
    "from numpy.linalg import det\n",
    "from numpy.linalg import cond\n",
    "\n",
    "#Lese Trainingsdaten\n",
    "def getTrainData(Numbers):\n",
    "    file = open(\"zip.train\", \"r\") \n",
    "    Data=[]    \n",
    "    for line in file:\n",
    "        for number in Numbers:\n",
    "            tmpLine = line.split()\n",
    "            if(float(tmpLine[0]) == float(number)):\n",
    "                floatLine = []\n",
    "                Linelen = len(tmpLine)            \n",
    "                for i in range(0,Linelen):\n",
    "                    floatLine.append(float(tmpLine[i]))\n",
    "                Data.append(floatLine)                \n",
    "    file.closed   \n",
    "    return Data\n",
    "\n",
    "def getTestData(Numbers):\n",
    "    file = open(\"zip.test\", \"r\") \n",
    "    Data=[]    \n",
    "    for line in file:\n",
    "        for number in Numbers:\n",
    "            tmpLine = line.split()\n",
    "            if(float(tmpLine[0]) == float(number)):\n",
    "                floatLine = []\n",
    "                Linelen = len(tmpLine)            \n",
    "                for i in range(0,Linelen):\n",
    "                    floatLine.append(float(tmpLine[i]))\n",
    "                Data.append(floatLine)                \n",
    "    file.closed   \n",
    "    return Data\n",
    "\n",
    "\n",
    "\n",
    "\n",
    "#Lese Testdaten\n",
    "#file = open(\"zip.test\", \"r\") \n",
    "#TestData=[]\n",
    "#for line in file:\n",
    "#    tmpLine = line.split()\n",
    "#    floatLine = []\n",
    "#    Linelen = len(tmpLine)\n",
    "#    \n",
    "#    for i in range(0,Linelen):\n",
    "#        floatLine.append(float(tmpLine[i])),\n",
    "#        \n",
    "#    TestData.append(floatLine),\n",
    "\n",
    "#file.closed"
   ]
  },
  {
   "cell_type": "code",
   "execution_count": 2,
   "metadata": {},
   "outputs": [],
   "source": [
    "def MittelPunktVector(VecList):    \n",
    "    M = np.array(VecList[0][1:])\n",
    "    n = len(VecList)    \n",
    "    for i in range(1,n):\n",
    "        tmpVec = np.array(VecList[i][1:])\n",
    "        M = M + tmpVec\n",
    "    M = M / (n) \n",
    "    #print(n)\n",
    "    return M\n",
    "\n",
    "def getKovarianzMatrix(Data, M):  \n",
    "    n = len(Data)    \n",
    "    x = np.matrix(Data[0][1:])\n",
    "    X = np.transpose((x - M)) @ (x - M) \n",
    "\n",
    "    for i in range(1,n):        \n",
    "        x = np.matrix(Data[i][1:])\n",
    "        tmpX = np.transpose((x - M)) @ (x - M)\n",
    "        #print(X)\n",
    "        X = X + tmpX        \n",
    "        #print()\n",
    "        #print(str(i+1) + \" \" + str(tmpX))\n",
    "        #print()\n",
    "    \n",
    "    #print(X)\n",
    "    return (X / n)\n",
    "\n",
    "\n",
    "def makeInvertible(X):\n",
    "    error = 0.01   \n",
    "    while((not is_matrix_invertible(X)) or (np.absolute(np.linalg.det(2 * np.pi * X)) <= 0.0001)):\n",
    "        #print(np.linalg.det(X))\n",
    "        X = X + (error * np.identity(X.shape[0]))\n",
    "        error = error + 0.1     \n",
    "        \n",
    "    #print((np.linalg.det(X)))\n",
    "    return X\n",
    "    \n",
    "\n",
    "def getProbability(x, M, sigma):\n",
    "    \n",
    "    x = np.matrix(x[1:])    \n",
    "    #sichergehen, dass Matrix invertierbar ist und det != 0    \n",
    "    sigma = makeInvertible(sigma)    \n",
    "    \n",
    "    \n",
    "    #print()\n",
    "    \n",
    "    dete = np.linalg.det( 2 * np.pi * sigma) \n",
    "    \n",
    "    #print(dete)\n",
    "    #print(sigma * inv(sigma))\n",
    "    \n",
    "    dete = np.sqrt(dete)    \n",
    "    \n",
    "    e = np.exp(-0.5 * ((x - M) @ inv(sigma) @ np.transpose((x - M))))\n",
    "    \n",
    "    return ((1.0/dete) * e)\n",
    "\n",
    "def is_matrix_invertible(matrix):\n",
    "    return cond(matrix) < 1 / np.spacing(1)"
   ]
  },
  {
   "cell_type": "code",
   "execution_count": 3,
   "metadata": {},
   "outputs": [],
   "source": [
    " def classify (a,b):    \n",
    "        \n",
    "    TrainData = getTrainData([a])\n",
    "    TrainData2 = getTrainData([b])\n",
    "    TestData = getTestData([a])\n",
    "    TestData2 = getTestData([b])\n",
    "    \n",
    "    M = MittelPunktVector(TrainData)\n",
    "    M2 = MittelPunktVector(TrainData2)\n",
    "\n",
    "    KovMat = getKovarianzMatrix(TrainData, M)\n",
    "    KovMat2 = getKovarianzMatrix(TrainData2, M)\n",
    "\n",
    "    n = len(TestData) + len(TestData2)\n",
    "    succount = 0\n",
    "    for elem in TestData:\n",
    "        prob1 = getProbability(elem, M, KovMat)\n",
    "        prob2 = getProbability(elem, M2, KovMat2)               \n",
    "        if(prob1 >= prob2):            \n",
    "            succount = succount + 1\n",
    "    \n",
    "    for elem in TestData2:\n",
    "        prob1 = getProbability(elem, M, KovMat)\n",
    "        prob2 = getProbability(elem, M2, KovMat2)               \n",
    "        if(prob1 < prob2):            \n",
    "            succount = succount + 1\n",
    "    \n",
    "    print(\"Success Rate: \" + str(succount/n))\n",
    "    return"
   ]
  },
  {
   "cell_type": "markdown",
   "metadata": {},
   "source": [
    "### Aufrufe für die 6 Zahlenpaarungen"
   ]
  },
  {
   "cell_type": "code",
   "execution_count": 4,
   "metadata": {},
   "outputs": [
    {
     "name": "stdout",
     "output_type": "stream",
     "text": [
      "Success Rate: 0.950920245398773\n",
      "Success Rate: 0.9840255591054313\n",
      "Success Rate: 0.9668674698795181\n",
      "Success Rate: 0.9804560260586319\n",
      "Success Rate: 0.9631901840490797\n"
     ]
    },
    {
     "name": "stderr",
     "output_type": "stream",
     "text": [
      "C:\\Users\\User\\Anaconda3\\lib\\site-packages\\numpy\\linalg\\linalg.py:1487: RuntimeWarning: divide by zero encountered in true_divide\n",
      "  return s[..., 0]/s[..., -1]\n"
     ]
    },
    {
     "name": "stdout",
     "output_type": "stream",
     "text": [
      "Success Rate: 0.9808306709265175\n"
     ]
    }
   ],
   "source": [
    "classify(3,5)\n",
    "classify(3,7)\n",
    "classify(3,8)\n",
    "classify(5,7)\n",
    "classify(5,8)\n",
    "classify(7,8)"
   ]
  }
 ],
 "metadata": {
  "kernelspec": {
   "display_name": "Python 3",
   "language": "python",
   "name": "python3"
  },
  "language_info": {
   "codemirror_mode": {
    "name": "ipython",
    "version": 3
   },
   "file_extension": ".py",
   "mimetype": "text/x-python",
   "name": "python",
   "nbconvert_exporter": "python",
   "pygments_lexer": "ipython3",
   "version": "3.6.3"
  }
 },
 "nbformat": 4,
 "nbformat_minor": 2
}
